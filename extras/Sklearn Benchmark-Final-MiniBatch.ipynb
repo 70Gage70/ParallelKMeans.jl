{
 "cells": [
  {
   "cell_type": "markdown",
   "metadata": {},
   "source": [
    "# Load Packages"
   ]
  },
  {
   "cell_type": "code",
   "execution_count": 15,
   "metadata": {
    "ExecuteTime": {
     "end_time": "2020-04-03T11:14:13.423924Z",
     "start_time": "2020-04-03T11:14:13.040511Z"
    }
   },
   "outputs": [
    {
     "name": "stdout",
     "output_type": "stream",
     "text": [
      "The watermark extension is already loaded. To reload it, use:\n",
      "  %reload_ext watermark\n"
     ]
    }
   ],
   "source": [
    "%load_ext watermark"
   ]
  },
  {
   "cell_type": "code",
   "execution_count": 16,
   "metadata": {
    "ExecuteTime": {
     "end_time": "2020-04-03T11:14:16.497814Z",
     "start_time": "2020-04-03T11:14:13.425962Z"
    }
   },
   "outputs": [
    {
     "name": "stdout",
     "output_type": "stream",
     "text": [
      "Python implementation: CPython\n",
      "Python version       : 3.9.2\n",
      "IPython version      : 7.22.0\n",
      "\n",
      "numpy  : 1.20.2\n",
      "sklearn: 0.24.1\n",
      "\n",
      "Compiler    : Clang 11.0.1 \n",
      "OS          : Darwin\n",
      "Release     : 20.4.0\n",
      "Machine     : x86_64\n",
      "Processor   : i386\n",
      "CPU cores   : 6\n",
      "Architecture: 64bit\n",
      "\n"
     ]
    }
   ],
   "source": [
    "%watermark -m -v -n -p numpy,sklearn"
   ]
  },
  {
   "cell_type": "code",
   "execution_count": null,
   "metadata": {},
   "outputs": [],
   "source": []
  },
  {
   "cell_type": "markdown",
   "metadata": {},
   "source": [
    "# Load Data"
   ]
  },
  {
   "cell_type": "code",
   "execution_count": 17,
   "metadata": {
    "ExecuteTime": {
     "end_time": "2020-04-03T11:14:18.529474Z",
     "start_time": "2020-04-03T11:14:16.499870Z"
    }
   },
   "outputs": [],
   "source": [
    "#Import libraries\n",
    "import numpy as np\n",
    "import matplotlib.pyplot as plt\n",
    "import seaborn as sns\n",
    "from sklearn.cluster import MiniBatchKMeans"
   ]
  },
  {
   "cell_type": "code",
   "execution_count": 18,
   "metadata": {
    "ExecuteTime": {
     "end_time": "2020-04-03T11:14:18.533119Z",
     "start_time": "2020-04-03T11:14:18.530746Z"
    }
   },
   "outputs": [],
   "source": [
    "np.random.seed(2020)"
   ]
  },
  {
   "cell_type": "code",
   "execution_count": 19,
   "metadata": {
    "ExecuteTime": {
     "end_time": "2020-04-03T11:14:18.862787Z",
     "start_time": "2020-04-03T11:14:18.538648Z"
    }
   },
   "outputs": [],
   "source": [
    "X_1m = np.random.rand(1_000_000, 30)\n",
    "X_100k = np.random.rand(100_000, 30)\n",
    "X_10k = np.random.rand(10_000, 30)\n",
    "X_1k = np.random.rand(1_000, 30)"
   ]
  },
  {
   "cell_type": "code",
   "execution_count": null,
   "metadata": {},
   "outputs": [],
   "source": []
  },
  {
   "cell_type": "markdown",
   "metadata": {},
   "source": [
    "# Benchmarks"
   ]
  },
  {
   "cell_type": "markdown",
   "metadata": {},
   "source": [
    "## Sklearn Multi-Thread Benchmark"
   ]
  },
  {
   "cell_type": "code",
   "execution_count": 20,
   "metadata": {
    "ExecuteTime": {
     "end_time": "2020-04-03T11:14:42.860735Z",
     "start_time": "2020-04-03T11:14:42.856790Z"
    }
   },
   "outputs": [],
   "source": [
    "def test_multicore_speed(x):\n",
    "    \"\"\"\n",
    "    Just a convenient function to select the number of cluster groups based \n",
    "    on the elbow method. Requries testing 2 to 10 k ranges using all available cores.\n",
    "    \"\"\"\n",
    "    ss = []\n",
    "    for i in range(2, 11):\n",
    "\n",
    "        model = MiniBatchKMeans(n_clusters=i,\n",
    "                                init='k-means++',\n",
    "                                tol=1e-6, \n",
    "                                max_no_improvement=10,\n",
    "                                max_iter=100_000).fit(x)\n",
    "        \n",
    "        ss.append(model.inertia_)\n",
    "        \n",
    "    return ss"
   ]
  },
  {
   "cell_type": "code",
   "execution_count": 21,
   "metadata": {
    "ExecuteTime": {
     "end_time": "2020-04-03T11:18:44.528214Z",
     "start_time": "2020-04-03T11:14:42.864711Z"
    }
   },
   "outputs": [
    {
     "name": "stdout",
     "output_type": "stream",
     "text": [
      "11.2 s ± 1.42 s per loop (mean ± std. dev. of 7 runs, 1 loop each)\n"
     ]
    }
   ],
   "source": [
    "%timeit test_multicore_speed(X_1m)"
   ]
  },
  {
   "cell_type": "code",
   "execution_count": 22,
   "metadata": {
    "ExecuteTime": {
     "end_time": "2020-04-03T11:19:13.998841Z",
     "start_time": "2020-04-03T11:18:44.531357Z"
    }
   },
   "outputs": [
    {
     "name": "stdout",
     "output_type": "stream",
     "text": [
      "1.41 s ± 168 ms per loop (mean ± std. dev. of 7 runs, 1 loop each)\n"
     ]
    }
   ],
   "source": [
    "%timeit test_multicore_speed(X_100k)"
   ]
  },
  {
   "cell_type": "code",
   "execution_count": 23,
   "metadata": {
    "ExecuteTime": {
     "end_time": "2020-04-03T11:19:18.915146Z",
     "start_time": "2020-04-03T11:19:14.000353Z"
    }
   },
   "outputs": [
    {
     "name": "stdout",
     "output_type": "stream",
     "text": [
      "317 ms ± 32.7 ms per loop (mean ± std. dev. of 7 runs, 1 loop each)\n"
     ]
    }
   ],
   "source": [
    "%timeit test_multicore_speed(X_10k)"
   ]
  },
  {
   "cell_type": "code",
   "execution_count": 24,
   "metadata": {
    "ExecuteTime": {
     "end_time": "2020-04-03T11:19:20.542884Z",
     "start_time": "2020-04-03T11:19:18.918146Z"
    }
   },
   "outputs": [
    {
     "name": "stdout",
     "output_type": "stream",
     "text": [
      "141 ms ± 1.88 ms per loop (mean ± std. dev. of 7 runs, 10 loops each)\n"
     ]
    }
   ],
   "source": [
    "%timeit test_multicore_speed(X_1k)"
   ]
  },
  {
   "cell_type": "code",
   "execution_count": null,
   "metadata": {},
   "outputs": [],
   "source": []
  },
  {
   "cell_type": "code",
   "execution_count": null,
   "metadata": {},
   "outputs": [],
   "source": []
  },
  {
   "cell_type": "markdown",
   "metadata": {},
   "source": [
    "## Sklearn Multi-Thread Results"
   ]
  },
  {
   "cell_type": "code",
   "execution_count": 25,
   "metadata": {
    "ExecuteTime": {
     "end_time": "2020-04-03T11:19:50.034488Z",
     "start_time": "2020-04-03T11:19:20.549372Z"
    }
   },
   "outputs": [
    {
     "data": {
      "text/plain": [
       "[2445867.479686552,\n",
       " 2412165.7171342387,\n",
       " 2385104.140258503,\n",
       " 2357469.335790009,\n",
       " 2340276.2532835295,\n",
       " 2321510.4619055036,\n",
       " 2311584.688176011,\n",
       " 2290377.712416416,\n",
       " 2277367.844858403]"
      ]
     },
     "execution_count": 25,
     "metadata": {},
     "output_type": "execute_result"
    }
   ],
   "source": [
    "test_multicore_speed(X_1m)"
   ]
  },
  {
   "cell_type": "code",
   "execution_count": 26,
   "metadata": {
    "ExecuteTime": {
     "end_time": "2020-04-03T11:19:53.759199Z",
     "start_time": "2020-04-03T11:19:50.036462Z"
    }
   },
   "outputs": [
    {
     "data": {
      "text/plain": [
       "[244482.59885062292,\n",
       " 240816.03776186175,\n",
       " 237910.97134228173,\n",
       " 236027.32053503324,\n",
       " 234021.78786939755,\n",
       " 231831.28918362648,\n",
       " 230429.8308173524,\n",
       " 229400.1630608017,\n",
       " 227886.7518947741]"
      ]
     },
     "execution_count": 26,
     "metadata": {},
     "output_type": "execute_result"
    }
   ],
   "source": [
    "test_multicore_speed(X_100k)"
   ]
  },
  {
   "cell_type": "code",
   "execution_count": 27,
   "metadata": {
    "ExecuteTime": {
     "end_time": "2020-04-03T11:19:54.363978Z",
     "start_time": "2020-04-03T11:19:53.760640Z"
    }
   },
   "outputs": [
    {
     "data": {
      "text/plain": [
       "[24392.745661181747,\n",
       " 23987.646437792417,\n",
       " 23697.726153370553,\n",
       " 23426.952006343166,\n",
       " 23276.90790158953,\n",
       " 23064.17230258268,\n",
       " 22954.647209537172,\n",
       " 22722.318449295362,\n",
       " 22708.263604056046]"
      ]
     },
     "execution_count": 27,
     "metadata": {},
     "output_type": "execute_result"
    }
   ],
   "source": [
    "test_multicore_speed(X_10k)"
   ]
  },
  {
   "cell_type": "code",
   "execution_count": 28,
   "metadata": {
    "ExecuteTime": {
     "end_time": "2020-04-03T11:19:54.565865Z",
     "start_time": "2020-04-03T11:19:54.365557Z"
    }
   },
   "outputs": [
    {
     "data": {
      "text/plain": [
       "[2431.933005539147,\n",
       " 2382.703412642692,\n",
       " 2350.0513505820563,\n",
       " 2317.982091752885,\n",
       " 2294.633919025983,\n",
       " 2274.200812255565,\n",
       " 2242.548182527589,\n",
       " 2221.944884143639,\n",
       " 2205.5533905720613]"
      ]
     },
     "execution_count": 28,
     "metadata": {},
     "output_type": "execute_result"
    }
   ],
   "source": [
    "test_multicore_speed(X_1k)"
   ]
  }
 ],
 "metadata": {
  "kernelspec": {
   "display_name": "Python 3",
   "language": "python",
   "name": "python3"
  },
  "language_info": {
   "codemirror_mode": {
    "name": "ipython",
    "version": 3
   },
   "file_extension": ".py",
   "mimetype": "text/x-python",
   "name": "python",
   "nbconvert_exporter": "python",
   "pygments_lexer": "ipython3",
   "version": "3.9.2"
  },
  "nteract": {
   "version": "0.22.0"
  },
  "toc": {
   "base_numbering": 1,
   "nav_menu": {},
   "number_sections": true,
   "sideBar": true,
   "skip_h1_title": false,
   "title_cell": "Table of Contents",
   "title_sidebar": "Contents",
   "toc_cell": false,
   "toc_position": {},
   "toc_section_display": true,
   "toc_window_display": true
  },
  "varInspector": {
   "cols": {
    "lenName": 16,
    "lenType": 16,
    "lenVar": 40
   },
   "kernels_config": {
    "python": {
     "delete_cmd_postfix": "",
     "delete_cmd_prefix": "del ",
     "library": "var_list.py",
     "varRefreshCmd": "print(var_dic_list())"
    },
    "r": {
     "delete_cmd_postfix": ") ",
     "delete_cmd_prefix": "rm(",
     "library": "var_list.r",
     "varRefreshCmd": "cat(var_dic_list()) "
    }
   },
   "types_to_exclude": [
    "module",
    "function",
    "builtin_function_or_method",
    "instance",
    "_Feature"
   ],
   "window_display": false
  }
 },
 "nbformat": 4,
 "nbformat_minor": 4
}
