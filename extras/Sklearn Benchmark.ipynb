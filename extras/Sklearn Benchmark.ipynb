{
 "cells": [
  {
   "cell_type": "markdown",
   "metadata": {},
   "source": [
    "# Load Packages"
   ]
  },
  {
   "cell_type": "code",
   "execution_count": 1,
   "metadata": {
    "ExecuteTime": {
     "end_time": "2020-03-12T12:42:49.065563Z",
     "start_time": "2020-03-12T12:42:48.690366Z"
    }
   },
   "outputs": [],
   "source": [
    "%load_ext watermark"
   ]
  },
  {
   "cell_type": "code",
   "execution_count": 2,
   "metadata": {
    "ExecuteTime": {
     "end_time": "2020-03-12T12:42:51.868343Z",
     "start_time": "2020-03-12T12:42:49.144892Z"
    }
   },
   "outputs": [
    {
     "name": "stdout",
     "output_type": "stream",
     "text": [
      "Thu Mar 12 2020 \n",
      "\n",
      "CPython 3.7.6\n",
      "IPython 7.13.0\n",
      "\n",
      "numpy 1.18.1\n",
      "sklearn 0.22.2.post1\n",
      "seaborn 0.10.0\n",
      "\n",
      "compiler   : Clang 9.0.1 \n",
      "system     : Darwin\n",
      "release    : 19.3.0\n",
      "machine    : x86_64\n",
      "processor  : i386\n",
      "CPU cores  : 6\n",
      "interpreter: 64bit\n"
     ]
    }
   ],
   "source": [
    "%watermark -m -v -n -p numpy,sklearn,seaborn"
   ]
  },
  {
   "cell_type": "code",
   "execution_count": null,
   "metadata": {},
   "outputs": [],
   "source": []
  },
  {
   "cell_type": "markdown",
   "metadata": {},
   "source": [
    "# Load Data"
   ]
  },
  {
   "cell_type": "code",
   "execution_count": 3,
   "metadata": {
    "ExecuteTime": {
     "end_time": "2020-03-12T12:42:52.315974Z",
     "start_time": "2020-03-12T12:42:51.945218Z"
    }
   },
   "outputs": [],
   "source": [
    "#Import libraries\n",
    "import numpy as np\n",
    "import matplotlib.pyplot as plt\n",
    "import seaborn as sns\n",
    "from sklearn.cluster import KMeans"
   ]
  },
  {
   "cell_type": "code",
   "execution_count": 4,
   "metadata": {
    "ExecuteTime": {
     "end_time": "2020-03-12T12:42:52.832181Z",
     "start_time": "2020-03-12T12:42:52.829895Z"
    }
   },
   "outputs": [],
   "source": [
    "np.random.seed(2020)"
   ]
  },
  {
   "cell_type": "code",
   "execution_count": 5,
   "metadata": {
    "ExecuteTime": {
     "end_time": "2020-03-12T12:42:53.652424Z",
     "start_time": "2020-03-12T12:42:53.371955Z"
    }
   },
   "outputs": [],
   "source": [
    "X = np.random.rand(1_000_000, 30)"
   ]
  },
  {
   "cell_type": "code",
   "execution_count": 6,
   "metadata": {
    "ExecuteTime": {
     "end_time": "2020-03-12T12:42:54.286769Z",
     "start_time": "2020-03-12T12:42:54.281851Z"
    }
   },
   "outputs": [
    {
     "data": {
      "text/plain": [
       "(1000000, 30)"
      ]
     },
     "execution_count": 6,
     "metadata": {},
     "output_type": "execute_result"
    }
   ],
   "source": [
    "X.shape"
   ]
  },
  {
   "cell_type": "code",
   "execution_count": 7,
   "metadata": {
    "ExecuteTime": {
     "end_time": "2020-03-12T12:42:54.376287Z",
     "start_time": "2020-03-12T12:42:54.372472Z"
    }
   },
   "outputs": [
    {
     "data": {
      "text/plain": [
       "array([[0.98627683, 0.87339195, 0.50974552, ..., 0.45611937, 0.15585136,\n",
       "        0.47604897],\n",
       "       [0.16970244, 0.89625834, 0.37339376, ..., 0.9360322 , 0.80302764,\n",
       "        0.69730515],\n",
       "       [0.46138428, 0.66243461, 0.74966564, ..., 0.90240675, 0.44920447,\n",
       "        0.61818198],\n",
       "       ...,\n",
       "       [0.46241048, 0.02711373, 0.98297598, ..., 0.63149313, 0.68530809,\n",
       "        0.93077828],\n",
       "       [0.85256642, 0.68951042, 0.08835872, ..., 0.60046939, 0.3804147 ,\n",
       "        0.17530941],\n",
       "       [0.81275259, 0.80919492, 0.67010203, ..., 0.32749441, 0.94242564,\n",
       "        0.81643605]])"
      ]
     },
     "execution_count": 7,
     "metadata": {},
     "output_type": "execute_result"
    }
   ],
   "source": [
    "X"
   ]
  },
  {
   "cell_type": "code",
   "execution_count": null,
   "metadata": {},
   "outputs": [],
   "source": []
  },
  {
   "cell_type": "code",
   "execution_count": null,
   "metadata": {},
   "outputs": [],
   "source": []
  },
  {
   "cell_type": "code",
   "execution_count": null,
   "metadata": {},
   "outputs": [],
   "source": []
  },
  {
   "cell_type": "markdown",
   "metadata": {},
   "source": [
    "## Export Data For Julia"
   ]
  },
  {
   "cell_type": "code",
   "execution_count": 8,
   "metadata": {
    "ExecuteTime": {
     "end_time": "2020-03-12T12:43:19.956450Z",
     "start_time": "2020-03-12T12:42:57.228156Z"
    }
   },
   "outputs": [],
   "source": [
    "np.savetxt('data.csv', X, delimiter=',')"
   ]
  },
  {
   "cell_type": "code",
   "execution_count": 9,
   "metadata": {
    "ExecuteTime": {
     "end_time": "2020-03-12T10:31:44.101453Z",
     "start_time": "2020-03-12T10:31:43.965635Z"
    }
   },
   "outputs": [
    {
     "name": "stdout",
     "output_type": "stream",
     "text": [
      "Sklearn Benchmark.ipynb  data.csv\r\n"
     ]
    }
   ],
   "source": [
    "%ls"
   ]
  },
  {
   "cell_type": "code",
   "execution_count": null,
   "metadata": {},
   "outputs": [],
   "source": []
  },
  {
   "cell_type": "code",
   "execution_count": null,
   "metadata": {},
   "outputs": [],
   "source": []
  },
  {
   "cell_type": "markdown",
   "metadata": {},
   "source": [
    "# Benchmarks"
   ]
  },
  {
   "cell_type": "markdown",
   "metadata": {},
   "source": [
    "## Sklearn Single Thread Benchmark"
   ]
  },
  {
   "cell_type": "code",
   "execution_count": 9,
   "metadata": {
    "ExecuteTime": {
     "end_time": "2020-03-12T12:44:10.077540Z",
     "start_time": "2020-03-12T12:44:10.072438Z"
    }
   },
   "outputs": [],
   "source": [
    "def test_speed(x):\n",
    "    \"\"\"\n",
    "    Just a convenient function to select the number of cluster groups based \n",
    "    on the elbow method. Requries testing 2 to 10 k ranges using 1 core.\n",
    "    \"\"\"\n",
    "    ss = []\n",
    "    for i in range(2, 11):\n",
    "\n",
    "        model = KMeans(n_clusters=i, init='k-means++',\n",
    "                       max_iter=300, tol=0.0001, n_jobs=1).fit(x)\n",
    "        \n",
    "        ss.append(model.inertia_)\n",
    "    return ss"
   ]
  },
  {
   "cell_type": "code",
   "execution_count": 10,
   "metadata": {
    "ExecuteTime": {
     "end_time": "2020-03-12T16:12:33.850203Z",
     "start_time": "2020-03-12T12:44:12.344832Z"
    }
   },
   "outputs": [
    {
     "name": "stdout",
     "output_type": "stream",
     "text": [
      "26min 1s ± 1min 7s per loop (mean ± std. dev. of 7 runs, 1 loop each)\n"
     ]
    }
   ],
   "source": [
    "%timeit test_speed(X)"
   ]
  },
  {
   "cell_type": "code",
   "execution_count": null,
   "metadata": {},
   "outputs": [],
   "source": []
  },
  {
   "cell_type": "markdown",
   "metadata": {},
   "source": [
    "###  Sklearn Single Thread Results"
   ]
  },
  {
   "cell_type": "code",
   "execution_count": 11,
   "metadata": {
    "ExecuteTime": {
     "end_time": "2020-03-12T16:37:04.115957Z",
     "start_time": "2020-03-12T16:12:33.919723Z"
    }
   },
   "outputs": [
    {
     "data": {
      "text/plain": [
       "[2437344.710396418,\n",
       " 2399284.054008447,\n",
       " 2369173.5347967194,\n",
       " 2346620.4948332976,\n",
       " 2326796.9289331255,\n",
       " 2309666.2464365195,\n",
       " 2293318.060627062,\n",
       " 2280686.245286427,\n",
       " 2268077.5249787876]"
      ]
     },
     "execution_count": 11,
     "metadata": {},
     "output_type": "execute_result"
    }
   ],
   "source": [
    "test_speed(X)"
   ]
  },
  {
   "cell_type": "code",
   "execution_count": null,
   "metadata": {},
   "outputs": [],
   "source": []
  },
  {
   "cell_type": "code",
   "execution_count": null,
   "metadata": {},
   "outputs": [],
   "source": []
  },
  {
   "cell_type": "code",
   "execution_count": null,
   "metadata": {},
   "outputs": [],
   "source": []
  },
  {
   "cell_type": "markdown",
   "metadata": {},
   "source": [
    "## Sklearn Multi-Thread Benchmark"
   ]
  },
  {
   "cell_type": "code",
   "execution_count": 12,
   "metadata": {
    "ExecuteTime": {
     "end_time": "2020-03-12T16:37:04.267457Z",
     "start_time": "2020-03-12T16:37:04.208657Z"
    }
   },
   "outputs": [],
   "source": [
    "def test_multicore_speed(x):\n",
    "    \"\"\"\n",
    "    Just a convenient function to select the number of cluster groups based \n",
    "    on the elbow method. Requries testing 2 to 10 k ranges using all available cores.\n",
    "    \"\"\"\n",
    "    ss = []\n",
    "    for i in range(2, 11):\n",
    "\n",
    "        model = KMeans(n_clusters=i, init='k-means++',\n",
    "                       max_iter=300, tol=0.0001, n_jobs=-1).fit(x)\n",
    "        \n",
    "        ss.append(model.inertia_)\n",
    "        \n",
    "    return ss"
   ]
  },
  {
   "cell_type": "code",
   "execution_count": 13,
   "metadata": {
    "ExecuteTime": {
     "end_time": "2020-03-12T17:52:47.178676Z",
     "start_time": "2020-03-12T16:37:04.326648Z"
    }
   },
   "outputs": [
    {
     "name": "stderr",
     "output_type": "stream",
     "text": [
      "/Users/mysterio/miniconda3/envs/pydata/lib/python3.7/site-packages/joblib/externals/loky/process_executor.py:706: UserWarning: A worker stopped while some jobs were given to the executor. This can be caused by a too short worker timeout or by a memory leak.\n",
      "  \"timeout or by a memory leak.\", UserWarning\n",
      "/Users/mysterio/miniconda3/envs/pydata/lib/python3.7/site-packages/joblib/externals/loky/process_executor.py:706: UserWarning: A worker stopped while some jobs were given to the executor. This can be caused by a too short worker timeout or by a memory leak.\n",
      "  \"timeout or by a memory leak.\", UserWarning\n",
      "/Users/mysterio/miniconda3/envs/pydata/lib/python3.7/site-packages/joblib/externals/loky/process_executor.py:706: UserWarning: A worker stopped while some jobs were given to the executor. This can be caused by a too short worker timeout or by a memory leak.\n",
      "  \"timeout or by a memory leak.\", UserWarning\n",
      "/Users/mysterio/miniconda3/envs/pydata/lib/python3.7/site-packages/joblib/externals/loky/process_executor.py:706: UserWarning: A worker stopped while some jobs were given to the executor. This can be caused by a too short worker timeout or by a memory leak.\n",
      "  \"timeout or by a memory leak.\", UserWarning\n",
      "/Users/mysterio/miniconda3/envs/pydata/lib/python3.7/site-packages/joblib/externals/loky/process_executor.py:706: UserWarning: A worker stopped while some jobs were given to the executor. This can be caused by a too short worker timeout or by a memory leak.\n",
      "  \"timeout or by a memory leak.\", UserWarning\n",
      "/Users/mysterio/miniconda3/envs/pydata/lib/python3.7/site-packages/joblib/externals/loky/process_executor.py:706: UserWarning: A worker stopped while some jobs were given to the executor. This can be caused by a too short worker timeout or by a memory leak.\n",
      "  \"timeout or by a memory leak.\", UserWarning\n",
      "/Users/mysterio/miniconda3/envs/pydata/lib/python3.7/site-packages/joblib/externals/loky/process_executor.py:706: UserWarning: A worker stopped while some jobs were given to the executor. This can be caused by a too short worker timeout or by a memory leak.\n",
      "  \"timeout or by a memory leak.\", UserWarning\n",
      "/Users/mysterio/miniconda3/envs/pydata/lib/python3.7/site-packages/joblib/externals/loky/process_executor.py:706: UserWarning: A worker stopped while some jobs were given to the executor. This can be caused by a too short worker timeout or by a memory leak.\n",
      "  \"timeout or by a memory leak.\", UserWarning\n",
      "/Users/mysterio/miniconda3/envs/pydata/lib/python3.7/site-packages/joblib/externals/loky/process_executor.py:706: UserWarning: A worker stopped while some jobs were given to the executor. This can be caused by a too short worker timeout or by a memory leak.\n",
      "  \"timeout or by a memory leak.\", UserWarning\n"
     ]
    },
    {
     "name": "stdout",
     "output_type": "stream",
     "text": [
      "9min 23s ± 17.2 s per loop (mean ± std. dev. of 7 runs, 1 loop each)\n"
     ]
    }
   ],
   "source": [
    "%timeit test_multicore_speed(X)"
   ]
  },
  {
   "cell_type": "code",
   "execution_count": null,
   "metadata": {},
   "outputs": [],
   "source": []
  },
  {
   "cell_type": "code",
   "execution_count": null,
   "metadata": {},
   "outputs": [],
   "source": []
  },
  {
   "cell_type": "markdown",
   "metadata": {},
   "source": [
    "### Sklearn Multi-Thread Results"
   ]
  },
  {
   "cell_type": "code",
   "execution_count": 14,
   "metadata": {
    "ExecuteTime": {
     "end_time": "2020-03-12T18:02:07.664321Z",
     "start_time": "2020-03-12T17:52:47.293832Z"
    }
   },
   "outputs": [
    {
     "data": {
      "text/plain": [
       "[2437462.6906016935,\n",
       " 2399335.1366852117,\n",
       " 2368934.8531181137,\n",
       " 2346427.8617889704,\n",
       " 2326975.168462808,\n",
       " 2309499.4518277273,\n",
       " 2293430.3159716832,\n",
       " 2280704.7902194555,\n",
       " 2267943.237770229]"
      ]
     },
     "execution_count": 14,
     "metadata": {},
     "output_type": "execute_result"
    }
   ],
   "source": [
    "test_multicore_speed(X)"
   ]
  },
  {
   "cell_type": "code",
   "execution_count": null,
   "metadata": {},
   "outputs": [],
   "source": []
  },
  {
   "cell_type": "code",
   "execution_count": null,
   "metadata": {},
   "outputs": [],
   "source": []
  },
  {
   "cell_type": "code",
   "execution_count": null,
   "metadata": {},
   "outputs": [],
   "source": []
  },
  {
   "cell_type": "code",
   "execution_count": null,
   "metadata": {},
   "outputs": [],
   "source": []
  }
 ],
 "metadata": {
  "kernelspec": {
   "display_name": "Python 3",
   "language": "python",
   "name": "python3"
  },
  "language_info": {
   "codemirror_mode": {
    "name": "ipython",
    "version": 3
   },
   "file_extension": ".py",
   "mimetype": "text/x-python",
   "name": "python",
   "nbconvert_exporter": "python",
   "pygments_lexer": "ipython3",
   "version": "3.7.6"
  },
  "toc": {
   "base_numbering": 1,
   "nav_menu": {},
   "number_sections": true,
   "sideBar": true,
   "skip_h1_title": false,
   "title_cell": "Table of Contents",
   "title_sidebar": "Contents",
   "toc_cell": false,
   "toc_position": {},
   "toc_section_display": true,
   "toc_window_display": true
  },
  "varInspector": {
   "cols": {
    "lenName": 16,
    "lenType": 16,
    "lenVar": 40
   },
   "kernels_config": {
    "python": {
     "delete_cmd_postfix": "",
     "delete_cmd_prefix": "del ",
     "library": "var_list.py",
     "varRefreshCmd": "print(var_dic_list())"
    },
    "r": {
     "delete_cmd_postfix": ") ",
     "delete_cmd_prefix": "rm(",
     "library": "var_list.r",
     "varRefreshCmd": "cat(var_dic_list()) "
    }
   },
   "types_to_exclude": [
    "module",
    "function",
    "builtin_function_or_method",
    "instance",
    "_Feature"
   ],
   "window_display": false
  }
 },
 "nbformat": 4,
 "nbformat_minor": 4
}