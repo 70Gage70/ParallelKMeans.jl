{
 "cells": [
  {
   "cell_type": "markdown",
   "metadata": {},
   "source": [
    "# Load Packages"
   ]
  },
  {
   "cell_type": "code",
   "execution_count": 1,
   "metadata": {
    "ExecuteTime": {
     "end_time": "2020-03-31T22:14:21.222087Z",
     "start_time": "2020-03-31T22:14:21.069567Z"
    }
   },
   "outputs": [],
   "source": [
    "%load_ext watermark"
   ]
  },
  {
   "cell_type": "code",
   "execution_count": 2,
   "metadata": {
    "ExecuteTime": {
     "end_time": "2020-03-31T22:14:22.306423Z",
     "start_time": "2020-03-31T22:14:21.745329Z"
    }
   },
   "outputs": [
    {
     "name": "stdout",
     "output_type": "stream",
     "text": [
      "Python implementation: CPython\n",
      "Python version       : 3.9.2\n",
      "IPython version      : 7.22.0\n",
      "\n",
      "numpy  : 1.20.2\n",
      "sklearn: 0.24.1\n",
      "\n",
      "Compiler    : Clang 11.0.1 \n",
      "OS          : Darwin\n",
      "Release     : 20.4.0\n",
      "Machine     : x86_64\n",
      "Processor   : i386\n",
      "CPU cores   : 6\n",
      "Architecture: 64bit\n",
      "\n"
     ]
    }
   ],
   "source": [
    "%watermark -m -v -n -p numpy,sklearn"
   ]
  },
  {
   "cell_type": "markdown",
   "metadata": {},
   "source": [
    "# Load Data"
   ]
  },
  {
   "cell_type": "code",
   "execution_count": 3,
   "metadata": {
    "ExecuteTime": {
     "end_time": "2020-03-31T22:14:25.189433Z",
     "start_time": "2020-03-31T22:14:23.859694Z"
    }
   },
   "outputs": [],
   "source": [
    "#Import libraries\n",
    "import numpy as np\n",
    "import matplotlib.pyplot as plt\n",
    "import seaborn as sns\n",
    "from sklearn.cluster import KMeans"
   ]
  },
  {
   "cell_type": "code",
   "execution_count": 4,
   "metadata": {
    "ExecuteTime": {
     "end_time": "2020-03-31T22:14:26.066915Z",
     "start_time": "2020-03-31T22:14:26.064657Z"
    }
   },
   "outputs": [],
   "source": [
    "np.random.seed(2020)"
   ]
  },
  {
   "cell_type": "code",
   "execution_count": 5,
   "metadata": {
    "ExecuteTime": {
     "end_time": "2020-03-31T22:14:27.041385Z",
     "start_time": "2020-03-31T22:14:26.739523Z"
    }
   },
   "outputs": [],
   "source": [
    "X_1m = np.random.rand(1_000_000, 30)\n",
    "X_100k = np.random.rand(100_000, 30)\n",
    "X_10k = np.random.rand(10_000, 30)\n",
    "X_1k = np.random.rand(1_000, 30)"
   ]
  },
  {
   "cell_type": "markdown",
   "metadata": {},
   "source": [
    "## Export Data For Other Languages"
   ]
  },
  {
   "cell_type": "code",
   "execution_count": 6,
   "metadata": {
    "ExecuteTime": {
     "end_time": "2020-03-31T22:14:54.863934Z",
     "start_time": "2020-03-31T22:14:32.522612Z"
    }
   },
   "outputs": [],
   "source": [
    "np.savetxt('data_1m.csv', X_1m, delimiter=',')\n",
    "np.savetxt('data_100k.csv', X_100k, delimiter=',')\n",
    "np.savetxt('data_10k.csv', X_10k, delimiter=',')\n",
    "np.savetxt('data_1k.csv', X_1k, delimiter=',')"
   ]
  },
  {
   "cell_type": "code",
   "execution_count": 7,
   "metadata": {
    "ExecuteTime": {
     "end_time": "2020-03-31T22:14:55.193667Z",
     "start_time": "2020-03-31T22:14:55.061443Z"
    }
   },
   "outputs": [
    {
     "name": "stdout",
     "output_type": "stream",
     "text": [
      "ClusteringJL, Mlpack, & ParallelKMeans Benchmarks Final.ipynb\r\n",
      "Sklearn Benchmark-Final-MiniBatch.ipynb\r\n",
      "Sklearn Benchmark-Final.ipynb\r\n",
      "data_100k.csv\r\n",
      "data_10k.csv\r\n",
      "data_1k.csv\r\n",
      "data_1m.csv\r\n",
      "knor_final.Rmd\r\n",
      "knor_final.pdf\r\n"
     ]
    }
   ],
   "source": [
    "%ls"
   ]
  },
  {
   "cell_type": "markdown",
   "metadata": {},
   "source": [
    "# Benchmarks"
   ]
  },
  {
   "cell_type": "markdown",
   "metadata": {},
   "source": [
    "## Sklearn Multi-Thread Benchmark"
   ]
  },
  {
   "cell_type": "code",
   "execution_count": 8,
   "metadata": {
    "ExecuteTime": {
     "end_time": "2020-03-31T22:14:55.277447Z",
     "start_time": "2020-03-31T22:14:55.273336Z"
    }
   },
   "outputs": [],
   "source": [
    "def test_multicore_speed(x):\n",
    "    \"\"\"\n",
    "    Just a convenient function to select the number of cluster groups based \n",
    "    on the elbow method. \n",
    "    Requries testing 2 to 10 k ranges using all available cores (default in sklearn > 0.24).\n",
    "    \"\"\"\n",
    "    ss = []\n",
    "    for i in range(2, 11):\n",
    "\n",
    "        model = KMeans(n_clusters=i, init='k-means++',\n",
    "                       max_iter=100_000, tol=1e-6).fit(x)\n",
    "        \n",
    "        ss.append(model.inertia_)\n",
    "        \n",
    "    return ss"
   ]
  },
  {
   "cell_type": "code",
   "execution_count": 9,
   "metadata": {
    "ExecuteTime": {
     "end_time": "2020-04-01T01:25:19.109252Z",
     "start_time": "2020-03-31T22:15:43.026361Z"
    }
   },
   "outputs": [
    {
     "name": "stdout",
     "output_type": "stream",
     "text": [
      "CPU times: user 1h 18min 54s, sys: 58.2 s, total: 1h 19min 52s\n",
      "Wall time: 14min 14s\n"
     ]
    },
    {
     "data": {
      "text/plain": [
       "[2437341.7270931103,\n",
       " 2399351.127290113,\n",
       " 2368831.2054143585,\n",
       " 2346201.222251802,\n",
       " 2326790.6041440214,\n",
       " 2309585.672550795,\n",
       " 2293413.1789655103,\n",
       " 2280334.331886036,\n",
       " 2267961.2758927774]"
      ]
     },
     "execution_count": 9,
     "metadata": {},
     "output_type": "execute_result"
    }
   ],
   "source": [
    "# takes days with timeit\n",
    "%time test_multicore_speed(X_1m)"
   ]
  },
  {
   "cell_type": "code",
   "execution_count": 10,
   "metadata": {
    "ExecuteTime": {
     "end_time": "2020-04-01T01:44:56.250881Z",
     "start_time": "2020-04-01T01:25:19.266719Z"
    }
   },
   "outputs": [
    {
     "name": "stdout",
     "output_type": "stream",
     "text": [
      "1min 27s ± 2.37 s per loop (mean ± std. dev. of 7 runs, 1 loop each)\n"
     ]
    }
   ],
   "source": [
    "%timeit test_multicore_speed(X_100k)"
   ]
  },
  {
   "cell_type": "code",
   "execution_count": 11,
   "metadata": {
    "ExecuteTime": {
     "end_time": "2020-04-01T01:45:42.884052Z",
     "start_time": "2020-04-01T01:44:56.438135Z"
    }
   },
   "outputs": [
    {
     "name": "stdout",
     "output_type": "stream",
     "text": [
      "6.11 s ± 407 ms per loop (mean ± std. dev. of 7 runs, 1 loop each)\n"
     ]
    }
   ],
   "source": [
    "%timeit test_multicore_speed(X_10k)"
   ]
  },
  {
   "cell_type": "code",
   "execution_count": 12,
   "metadata": {
    "ExecuteTime": {
     "end_time": "2020-04-01T01:45:45.901350Z",
     "start_time": "2020-04-01T01:45:43.042056Z"
    }
   },
   "outputs": [
    {
     "name": "stdout",
     "output_type": "stream",
     "text": [
      "719 ms ± 16.2 ms per loop (mean ± std. dev. of 7 runs, 1 loop each)\n"
     ]
    }
   ],
   "source": [
    "%timeit test_multicore_speed(X_1k)"
   ]
  },
  {
   "cell_type": "code",
   "execution_count": null,
   "metadata": {},
   "outputs": [],
   "source": []
  },
  {
   "cell_type": "code",
   "execution_count": null,
   "metadata": {},
   "outputs": [],
   "source": []
  },
  {
   "cell_type": "markdown",
   "metadata": {},
   "source": [
    "## Sklearn Multi-Thread Results"
   ]
  },
  {
   "cell_type": "code",
   "execution_count": 13,
   "metadata": {
    "ExecuteTime": {
     "end_time": "2020-04-01T02:09:22.774620Z",
     "start_time": "2020-04-01T01:45:46.007031Z"
    }
   },
   "outputs": [
    {
     "data": {
      "text/plain": [
       "[2437324.235389248,\n",
       " 2399413.0830678497,\n",
       " 2368818.8267027903,\n",
       " 2346299.9410698186,\n",
       " 2326735.440058622,\n",
       " 2309516.949678505,\n",
       " 2293478.379922331,\n",
       " 2280295.348438886,\n",
       " 2267882.6124851117]"
      ]
     },
     "execution_count": 13,
     "metadata": {},
     "output_type": "execute_result"
    }
   ],
   "source": [
    "test_multicore_speed(X_1m)"
   ]
  },
  {
   "cell_type": "code",
   "execution_count": 14,
   "metadata": {
    "ExecuteTime": {
     "end_time": "2020-04-01T02:12:02.303837Z",
     "start_time": "2020-04-01T02:09:22.962900Z"
    }
   },
   "outputs": [
    {
     "data": {
      "text/plain": [
       "[243589.2873161867,\n",
       " 239764.75364587895,\n",
       " 236710.75522105594,\n",
       " 234408.93214474779,\n",
       " 232424.07131403798,\n",
       " 230670.0302232603,\n",
       " 229006.70085774802,\n",
       " 227697.49490115896,\n",
       " 226417.04919758317]"
      ]
     },
     "execution_count": 14,
     "metadata": {},
     "output_type": "execute_result"
    }
   ],
   "source": [
    "test_multicore_speed(X_100k)"
   ]
  },
  {
   "cell_type": "code",
   "execution_count": 15,
   "metadata": {
    "ExecuteTime": {
     "end_time": "2020-04-01T02:12:08.519917Z",
     "start_time": "2020-04-01T02:12:02.484714Z"
    }
   },
   "outputs": [
    {
     "data": {
      "text/plain": [
       "[24258.313108868635,\n",
       " 23866.423212883026,\n",
       " 23549.056659001235,\n",
       " 23281.743553533157,\n",
       " 23075.514042452258,\n",
       " 22868.84837785622,\n",
       " 22703.89545928599,\n",
       " 22543.180090006244,\n",
       " 22388.36033844091]"
      ]
     },
     "execution_count": 15,
     "metadata": {},
     "output_type": "execute_result"
    }
   ],
   "source": [
    "test_multicore_speed(X_10k)"
   ]
  },
  {
   "cell_type": "code",
   "execution_count": 16,
   "metadata": {
    "ExecuteTime": {
     "end_time": "2020-04-01T02:12:08.969880Z",
     "start_time": "2020-04-01T02:12:08.621633Z"
    }
   },
   "outputs": [
    {
     "data": {
      "text/plain": [
       "[2416.426793583685,\n",
       " 2363.360485189129,\n",
       " 2323.6350017094774,\n",
       " 2289.0280235978544,\n",
       " 2257.950426505983,\n",
       " 2238.313140590653,\n",
       " 2212.847741952131,\n",
       " 2191.168916233091,\n",
       " 2172.246861197593]"
      ]
     },
     "execution_count": 16,
     "metadata": {},
     "output_type": "execute_result"
    }
   ],
   "source": [
    "test_multicore_speed(X_1k)"
   ]
  },
  {
   "cell_type": "code",
   "execution_count": null,
   "metadata": {},
   "outputs": [],
   "source": []
  }
 ],
 "metadata": {
  "kernelspec": {
   "display_name": "Python 3",
   "language": "python",
   "name": "python3"
  },
  "language_info": {
   "codemirror_mode": {
    "name": "ipython",
    "version": 3
   },
   "file_extension": ".py",
   "mimetype": "text/x-python",
   "name": "python",
   "nbconvert_exporter": "python",
   "pygments_lexer": "ipython3",
   "version": "3.9.2"
  },
  "nteract": {
   "version": "0.22.0"
  },
  "toc": {
   "base_numbering": 1,
   "nav_menu": {},
   "number_sections": true,
   "sideBar": true,
   "skip_h1_title": false,
   "title_cell": "Table of Contents",
   "title_sidebar": "Contents",
   "toc_cell": false,
   "toc_position": {},
   "toc_section_display": true,
   "toc_window_display": true
  },
  "varInspector": {
   "cols": {
    "lenName": 16,
    "lenType": 16,
    "lenVar": 40
   },
   "kernels_config": {
    "python": {
     "delete_cmd_postfix": "",
     "delete_cmd_prefix": "del ",
     "library": "var_list.py",
     "varRefreshCmd": "print(var_dic_list())"
    },
    "r": {
     "delete_cmd_postfix": ") ",
     "delete_cmd_prefix": "rm(",
     "library": "var_list.r",
     "varRefreshCmd": "cat(var_dic_list()) "
    }
   },
   "types_to_exclude": [
    "module",
    "function",
    "builtin_function_or_method",
    "instance",
    "_Feature"
   ],
   "window_display": false
  }
 },
 "nbformat": 4,
 "nbformat_minor": 4
}
