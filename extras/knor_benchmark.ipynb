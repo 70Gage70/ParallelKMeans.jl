{
 "cells": [
  {
   "cell_type": "markdown",
   "metadata": {},
   "source": [
    "# Load Data"
   ]
  },
  {
   "cell_type": "code",
   "execution_count": 1,
   "metadata": {
    "ExecuteTime": {
     "end_time": "2020-04-01T14:57:37.436963Z",
     "start_time": "2020-04-01T14:57:37.292Z"
    },
    "jupyter": {
     "outputs_hidden": false,
     "source_hidden": false
    },
    "nteract": {
     "transient": {
      "deleting": false
     }
    }
   },
   "outputs": [
    {
     "name": "stderr",
     "output_type": "stream",
     "text": [
      "Loading required package: Rcpp\n",
      "\n"
     ]
    }
   ],
   "source": [
    "# Load libraries\n",
    "library(knor)"
   ]
  },
  {
   "cell_type": "code",
   "execution_count": 2,
   "metadata": {
    "ExecuteTime": {
     "end_time": "2020-04-01T14:57:45.010744Z",
     "start_time": "2020-04-01T14:57:37.294Z"
    }
   },
   "outputs": [],
   "source": [
    "X_100k = as.matrix(read.csv(\"data_100k.csv\", header = FALSE))"
   ]
  },
  {
   "cell_type": "code",
   "execution_count": 3,
   "metadata": {
    "ExecuteTime": {
     "end_time": "2020-04-01T14:57:45.924978Z",
     "start_time": "2020-04-01T14:57:37.296Z"
    }
   },
   "outputs": [],
   "source": [
    "X_10k = as.matrix(read.csv(\"data_10k.csv\", header = FALSE))"
   ]
  },
  {
   "cell_type": "code",
   "execution_count": 4,
   "metadata": {
    "ExecuteTime": {
     "end_time": "2020-04-01T14:57:45.962202Z",
     "start_time": "2020-04-01T14:57:37.297Z"
    }
   },
   "outputs": [],
   "source": [
    "X_1k = as.matrix(read.csv(\"data_1k.csv\", header = FALSE))"
   ]
  },
  {
   "cell_type": "markdown",
   "metadata": {},
   "source": [
    "# Test Execution Speed"
   ]
  },
  {
   "cell_type": "code",
   "execution_count": 5,
   "metadata": {
    "ExecuteTime": {
     "end_time": "2020-04-01T14:57:45.971580Z",
     "start_time": "2020-04-01T14:57:37.299Z"
    },
    "jupyter": {
     "outputs_hidden": false,
     "source_hidden": false
    },
    "nteract": {
     "transient": {
      "deleting": false
     }
    }
   },
   "outputs": [],
   "source": [
    "# Just a convenient function to test execution speed of the 'Elbow method'\n",
    "test_multicore_speed <- function(x){\n",
    "    \n",
    "  rng <- 2:10\n",
    "  iters <-  rng * 0\n",
    "    \n",
    "  for (i in rng) {\n",
    "    m <- knor::Kmeans(data = x, centers = i,\n",
    "                      iter.max = 1000, nthread = -1, \n",
    "                      init = \"kmeanspp\",\n",
    "                      tolerance = 1e-06,\n",
    "                      dist.type = \"eucl\")\n",
    "    iters[i] = m$iters\n",
    "  }\n",
    "    \n",
    "  return(iters)\n",
    "}"
   ]
  },
  {
   "cell_type": "code",
   "execution_count": null,
   "metadata": {},
   "outputs": [],
   "source": []
  },
  {
   "cell_type": "code",
   "execution_count": 6,
   "metadata": {
    "ExecuteTime": {
     "end_time": "2020-04-01T14:57:45.979625Z",
     "start_time": "2020-04-01T14:57:37.301Z"
    }
   },
   "outputs": [],
   "source": [
    "check_run_time_speed <- function(x){\n",
    "  # Replicate the number samples to get a mean time\n",
    "  time.taken <- c(1:7)*0\n",
    "  \n",
    "  for (i in 1:7) {\n",
    "    start.time <- Sys.time()\n",
    "    \n",
    "    test_multicore_speed(x)\n",
    "    \n",
    "    end.time <- Sys.time()\n",
    "    \n",
    "    time.taken[i] <- end.time - start.time\n",
    "    \n",
    "  }\n",
    "  secs <- time.taken * 60\n",
    "  \n",
    "  return(summary(secs))\n",
    "}"
   ]
  },
  {
   "cell_type": "markdown",
   "metadata": {},
   "source": [
    "## 100K Data"
   ]
  },
  {
   "cell_type": "code",
   "execution_count": 7,
   "metadata": {
    "ExecuteTime": {
     "end_time": "2020-04-01T14:59:36.206913Z",
     "start_time": "2020-04-01T14:57:37.302Z"
    }
   },
   "outputs": [
    {
     "data": {
      "text/plain": [
       "   Min. 1st Qu.  Median    Mean 3rd Qu.    Max. \n",
       "  907.7   925.0   939.5   944.6   957.4  1000.4 "
      ]
     },
     "metadata": {},
     "output_type": "display_data"
    }
   ],
   "source": [
    "check_run_time_speed(X_100k)"
   ]
  },
  {
   "cell_type": "markdown",
   "metadata": {},
   "source": [
    "## 10k Data"
   ]
  },
  {
   "cell_type": "code",
   "execution_count": null,
   "metadata": {
    "ExecuteTime": {
     "start_time": "2020-04-01T14:57:37.304Z"
    }
   },
   "outputs": [],
   "source": [
    "check_run_time_speed(X_10k)"
   ]
  },
  {
   "cell_type": "markdown",
   "metadata": {},
   "source": [
    "## 1k Data"
   ]
  },
  {
   "cell_type": "code",
   "execution_count": null,
   "metadata": {
    "ExecuteTime": {
     "start_time": "2020-04-01T14:57:37.305Z"
    }
   },
   "outputs": [],
   "source": [
    "check_run_time_speed(X_1k)"
   ]
  },
  {
   "cell_type": "code",
   "execution_count": null,
   "metadata": {},
   "outputs": [],
   "source": []
  },
  {
   "cell_type": "markdown",
   "metadata": {},
   "source": [
    "## 1M Data"
   ]
  },
  {
   "cell_type": "code",
   "execution_count": null,
   "metadata": {
    "ExecuteTime": {
     "start_time": "2020-04-01T14:57:37.308Z"
    }
   },
   "outputs": [],
   "source": [
    "# Read testing data as matrix\n",
    "X_1m = as.matrix(read.csv(\"data_1m.csv\", header = FALSE))"
   ]
  },
  {
   "cell_type": "code",
   "execution_count": null,
   "metadata": {
    "ExecuteTime": {
     "start_time": "2020-04-01T14:57:37.309Z"
    }
   },
   "outputs": [],
   "source": [
    "check_run_time_speed(X_1m)"
   ]
  },
  {
   "cell_type": "code",
   "execution_count": null,
   "metadata": {},
   "outputs": [],
   "source": []
  }
 ],
 "metadata": {
  "kernel_info": {
   "name": "python3"
  },
  "kernelspec": {
   "display_name": "R",
   "language": "R",
   "name": "ir"
  },
  "language_info": {
   "codemirror_mode": "r",
   "file_extension": ".r",
   "mimetype": "text/x-r-source",
   "name": "R",
   "pygments_lexer": "r",
   "version": "3.6.3"
  },
  "nteract": {
   "version": "0.22.0"
  },
  "toc": {
   "base_numbering": 1,
   "nav_menu": {},
   "number_sections": true,
   "sideBar": true,
   "skip_h1_title": false,
   "title_cell": "Table of Contents",
   "title_sidebar": "Contents",
   "toc_cell": false,
   "toc_position": {
    "height": "calc(100% - 180px)",
    "left": "10px",
    "top": "150px",
    "width": "409.6px"
   },
   "toc_section_display": true,
   "toc_window_display": true
  },
  "varInspector": {
   "cols": {
    "lenName": 16,
    "lenType": 16,
    "lenVar": 40
   },
   "kernels_config": {
    "python": {
     "delete_cmd_postfix": "",
     "delete_cmd_prefix": "del ",
     "library": "var_list.py",
     "varRefreshCmd": "print(var_dic_list())"
    },
    "r": {
     "delete_cmd_postfix": ") ",
     "delete_cmd_prefix": "rm(",
     "library": "var_list.r",
     "varRefreshCmd": "cat(var_dic_list()) "
    }
   },
   "types_to_exclude": [
    "module",
    "function",
    "builtin_function_or_method",
    "instance",
    "_Feature"
   ],
   "window_display": false
  }
 },
 "nbformat": 4,
 "nbformat_minor": 1
}
