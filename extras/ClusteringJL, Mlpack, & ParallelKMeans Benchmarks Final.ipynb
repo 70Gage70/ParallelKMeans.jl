{
 "cells": [
  {
   "cell_type": "markdown",
   "metadata": {},
   "source": [
    "# 1.0 Load Packages & Testing Data"
   ]
  },
  {
   "cell_type": "code",
   "execution_count": 1,
   "metadata": {},
   "outputs": [
    {
     "data": {
      "text/plain": [
       "6"
      ]
     },
     "execution_count": 1,
     "metadata": {},
     "output_type": "execute_result"
    }
   ],
   "source": [
    "Threads.nthreads()"
   ]
  },
  {
   "cell_type": "code",
   "execution_count": 2,
   "metadata": {},
   "outputs": [],
   "source": [
    "# Load Packages\n",
    "using Clustering\n",
    "using ParallelKMeans\n",
    "using BenchmarkTools\n",
    "using DelimitedFiles\n",
    "using mlpack"
   ]
  },
  {
   "cell_type": "markdown",
   "metadata": {},
   "source": [
    "## Read Data as transposed matrices since Julia is column major"
   ]
  },
  {
   "cell_type": "code",
   "execution_count": 3,
   "metadata": {},
   "outputs": [],
   "source": [
    "X_1m = permutedims(DelimitedFiles.readdlm(\"data_1m.csv\", ',', Float64));"
   ]
  },
  {
   "cell_type": "code",
   "execution_count": 4,
   "metadata": {},
   "outputs": [],
   "source": [
    "X_100k = permutedims(DelimitedFiles.readdlm(\"data_100k.csv\", ',', Float64));"
   ]
  },
  {
   "cell_type": "code",
   "execution_count": 5,
   "metadata": {},
   "outputs": [],
   "source": [
    "X_10k = permutedims(DelimitedFiles.readdlm(\"data_10k.csv\", ',', Float64));"
   ]
  },
  {
   "cell_type": "code",
   "execution_count": 6,
   "metadata": {},
   "outputs": [],
   "source": [
    "X_1k = permutedims(DelimitedFiles.readdlm(\"data_1k.csv\", ',', Float64));"
   ]
  },
  {
   "cell_type": "code",
   "execution_count": null,
   "metadata": {},
   "outputs": [],
   "source": []
  },
  {
   "cell_type": "markdown",
   "metadata": {},
   "source": [
    "## Row-wise Data For mlpack"
   ]
  },
  {
   "cell_type": "code",
   "execution_count": 7,
   "metadata": {},
   "outputs": [],
   "source": [
    "X_1m_mlp = permutedims(X_1m);"
   ]
  },
  {
   "cell_type": "code",
   "execution_count": 8,
   "metadata": {},
   "outputs": [],
   "source": [
    "X_100k_mlp = permutedims(X_100k);"
   ]
  },
  {
   "cell_type": "code",
   "execution_count": 9,
   "metadata": {},
   "outputs": [],
   "source": [
    "X_10k_mlp = permutedims(X_10k);"
   ]
  },
  {
   "cell_type": "code",
   "execution_count": 10,
   "metadata": {},
   "outputs": [],
   "source": [
    "X_1k_mlp = permutedims(X_1k);"
   ]
  },
  {
   "cell_type": "code",
   "execution_count": null,
   "metadata": {},
   "outputs": [],
   "source": []
  },
  {
   "cell_type": "markdown",
   "metadata": {},
   "source": [
    "# Elbow Method MLPACK"
   ]
  },
  {
   "cell_type": "code",
   "execution_count": 11,
   "metadata": {},
   "outputs": [
    {
     "name": "stdout",
     "output_type": "stream",
     "text": [
      "  220.357 s (85 allocations: 2.08 GiB)\n"
     ]
    }
   ],
   "source": [
    "@btime [mlpack.kmeans(i, $X_1m_mlp; algorithm=\"hamerly\", max_iterations=1000)[1] for i = 2:10];"
   ]
  },
  {
   "cell_type": "code",
   "execution_count": 12,
   "metadata": {},
   "outputs": [
    {
     "name": "stdout",
     "output_type": "stream",
     "text": [
      "  20.936 s (85 allocations: 212.88 MiB)\n"
     ]
    }
   ],
   "source": [
    "@btime [mlpack.kmeans(i, $X_100k_mlp; algorithm=\"hamerly\", max_iterations=1000)[1] for i = 2:10];"
   ]
  },
  {
   "cell_type": "code",
   "execution_count": 13,
   "metadata": {},
   "outputs": [
    {
     "name": "stdout",
     "output_type": "stream",
     "text": [
      "  824.295 ms (85 allocations: 21.30 MiB)\n"
     ]
    }
   ],
   "source": [
    "@btime [mlpack.kmeans(i, $X_10k_mlp; algorithm=\"hamerly\", max_iterations=1000)[1] for i = 2:10];"
   ]
  },
  {
   "cell_type": "code",
   "execution_count": 14,
   "metadata": {},
   "outputs": [
    {
     "name": "stdout",
     "output_type": "stream",
     "text": [
      "  26.388 ms (85 allocations: 2.14 MiB)\n"
     ]
    }
   ],
   "source": [
    "@btime [mlpack.kmeans(i, $X_1k_mlp; algorithm=\"hamerly\", max_iterations=1000)[1] for i = 2:10];"
   ]
  },
  {
   "cell_type": "code",
   "execution_count": null,
   "metadata": {},
   "outputs": [],
   "source": []
  },
  {
   "cell_type": "markdown",
   "metadata": {},
   "source": [
    "# 2.0 Elbow Method Clustering.jl"
   ]
  },
  {
   "cell_type": "code",
   "execution_count": 15,
   "metadata": {},
   "outputs": [
    {
     "name": "stdout",
     "output_type": "stream",
     "text": [
      "  538.531 s (31820 allocations: 33.24 GiB)\n"
     ]
    }
   ],
   "source": [
    "@btime [Clustering.kmeans($X_1m, i; tol=1e-6, maxiter=1000).totalcost for i = 2:10];"
   ]
  },
  {
   "cell_type": "code",
   "execution_count": 16,
   "metadata": {},
   "outputs": [
    {
     "name": "stdout",
     "output_type": "stream",
     "text": [
      "  33.157 s (20032 allocations: 2.13 GiB)\n"
     ]
    }
   ],
   "source": [
    "@btime [Clustering.kmeans($X_100k, i; tol=1e-6, maxiter=1000).totalcost for i = 2:10];"
   ]
  },
  {
   "cell_type": "code",
   "execution_count": 17,
   "metadata": {},
   "outputs": [
    {
     "name": "stdout",
     "output_type": "stream",
     "text": [
      "  742.375 ms (7614 allocations: 82.82 MiB)\n"
     ]
    }
   ],
   "source": [
    "@btime [Clustering.kmeans($X_10k, i; tol=1e-6, maxiter=1000).totalcost for i = 2:10]; "
   ]
  },
  {
   "cell_type": "code",
   "execution_count": 18,
   "metadata": {},
   "outputs": [
    {
     "name": "stdout",
     "output_type": "stream",
     "text": [
      "  17.098 ms (1699 allocations: 2.34 MiB)\n"
     ]
    }
   ],
   "source": [
    "@btime [Clustering.kmeans($X_1k, i; tol=1e-6, maxiter=1000).totalcost for i = 2:10]; "
   ]
  },
  {
   "cell_type": "code",
   "execution_count": null,
   "metadata": {},
   "outputs": [],
   "source": []
  },
  {
   "cell_type": "markdown",
   "metadata": {},
   "source": [
    "# 3.0 Elbow Method Speed ParallelKMeans.jl"
   ]
  },
  {
   "cell_type": "markdown",
   "metadata": {},
   "source": [
    "## Lloyd"
   ]
  },
  {
   "cell_type": "code",
   "execution_count": 19,
   "metadata": {},
   "outputs": [
    {
     "name": "stdout",
     "output_type": "stream",
     "text": [
      "  20.554 s (40737 allocations: 210.10 MiB)\n"
     ]
    }
   ],
   "source": [
    "@btime [ParallelKMeans.kmeans(Lloyd(), $X_1m, i; tol=1e-6, max_iters=1000, verbose=false).totalcost for i = 2:10];"
   ]
  },
  {
   "cell_type": "code",
   "execution_count": 20,
   "metadata": {},
   "outputs": [
    {
     "name": "stdout",
     "output_type": "stream",
     "text": [
      "  2.913 s (56992 allocations: 26.27 MiB)\n"
     ]
    }
   ],
   "source": [
    "@btime [ParallelKMeans.kmeans(Lloyd(), $X_100k, i; tol=1e-6, max_iters=1000, verbose=false).totalcost for i = 2:10];"
   ]
  },
  {
   "cell_type": "code",
   "execution_count": 21,
   "metadata": {},
   "outputs": [
    {
     "name": "stdout",
     "output_type": "stream",
     "text": [
      "  175.590 ms (34558 allocations: 5.56 MiB)\n"
     ]
    }
   ],
   "source": [
    "@btime [ParallelKMeans.kmeans(Lloyd(), $X_10k, i; tol=1e-6, max_iters=1000, verbose=false).totalcost for i = 2:10];"
   ]
  },
  {
   "cell_type": "code",
   "execution_count": 22,
   "metadata": {},
   "outputs": [
    {
     "name": "stdout",
     "output_type": "stream",
     "text": [
      "  6.093 ms (10349 allocations: 1.35 MiB)\n"
     ]
    }
   ],
   "source": [
    "@btime [ParallelKMeans.kmeans(Lloyd(), $X_1k, i; tol=1e-6, max_iters=1000, verbose=false).totalcost for i = 2:10];"
   ]
  },
  {
   "cell_type": "markdown",
   "metadata": {},
   "source": [
    "## Hamerly"
   ]
  },
  {
   "cell_type": "code",
   "execution_count": 23,
   "metadata": {},
   "outputs": [
    {
     "name": "stdout",
     "output_type": "stream",
     "text": [
      "  11.518 s (62467 allocations: 350.25 MiB)\n"
     ]
    }
   ],
   "source": [
    "@btime [ParallelKMeans.kmeans(Hamerly(), $X_1m, i; tol=1e-6, max_iters=1000, verbose=false).totalcost for i = 2:10];"
   ]
  },
  {
   "cell_type": "code",
   "execution_count": 24,
   "metadata": {},
   "outputs": [
    {
     "name": "stdout",
     "output_type": "stream",
     "text": [
      "  966.373 ms (58405 allocations: 40.85 MiB)\n"
     ]
    }
   ],
   "source": [
    "@btime [ParallelKMeans.kmeans(Hamerly(), $X_100k, i; tol=1e-6, max_iters=1000, verbose=false).totalcost for i = 2:10];"
   ]
  },
  {
   "cell_type": "code",
   "execution_count": 25,
   "metadata": {},
   "outputs": [
    {
     "name": "stdout",
     "output_type": "stream",
     "text": [
      "  99.897 ms (61185 allocations: 10.27 MiB)\n"
     ]
    }
   ],
   "source": [
    "@btime [ParallelKMeans.kmeans(Hamerly(), $X_10k, i; tol=1e-6, max_iters=1000, verbose=false).totalcost for i = 2:10];"
   ]
  },
  {
   "cell_type": "code",
   "execution_count": 26,
   "metadata": {
    "scrolled": true
   },
   "outputs": [
    {
     "name": "stdout",
     "output_type": "stream",
     "text": [
      "  6.350 ms (16373 allocations: 2.25 MiB)\n"
     ]
    }
   ],
   "source": [
    "@btime [ParallelKMeans.kmeans(Hamerly(), $X_1k, i; tol=1e-6, max_iters=1000, verbose=false).totalcost for i = 2:10];"
   ]
  },
  {
   "cell_type": "code",
   "execution_count": null,
   "metadata": {},
   "outputs": [],
   "source": []
  },
  {
   "cell_type": "markdown",
   "metadata": {},
   "source": [
    "# Elkan"
   ]
  },
  {
   "cell_type": "code",
   "execution_count": 27,
   "metadata": {},
   "outputs": [
    {
     "name": "stdout",
     "output_type": "stream",
     "text": [
      "  14.019 s (55965 allocations: 701.39 MiB)\n"
     ]
    }
   ],
   "source": [
    "@btime [ParallelKMeans.kmeans(Elkan(), $X_1m, i; tol=1e-6, max_iters=1000, verbose=false).totalcost for i = 2:10];"
   ]
  },
  {
   "cell_type": "code",
   "execution_count": 28,
   "metadata": {},
   "outputs": [
    {
     "name": "stdout",
     "output_type": "stream",
     "text": [
      "  1.131 s (50298 allocations: 75.12 MiB)\n"
     ]
    }
   ],
   "source": [
    "@btime [ParallelKMeans.kmeans(Elkan(), $X_100k, i; tol=1e-6, max_iters=1000, verbose=false).totalcost for i = 2:10];"
   ]
  },
  {
   "cell_type": "code",
   "execution_count": 29,
   "metadata": {},
   "outputs": [
    {
     "name": "stdout",
     "output_type": "stream",
     "text": [
      "  79.120 ms (49220 allocations: 12.43 MiB)\n"
     ]
    }
   ],
   "source": [
    "@btime [ParallelKMeans.kmeans(Elkan(), $X_10k, i; tol=1e-6, max_iters=1000, verbose=false).totalcost for i = 2:10];"
   ]
  },
  {
   "cell_type": "code",
   "execution_count": 30,
   "metadata": {
    "scrolled": true
   },
   "outputs": [
    {
     "name": "stdout",
     "output_type": "stream",
     "text": [
      "  6.464 ms (16613 allocations: 2.61 MiB)\n"
     ]
    }
   ],
   "source": [
    "@btime [ParallelKMeans.kmeans(Elkan(), $X_1k, i; tol=1e-6, max_iters=1000, verbose=false).totalcost for i = 2:10];"
   ]
  },
  {
   "cell_type": "code",
   "execution_count": null,
   "metadata": {},
   "outputs": [],
   "source": []
  },
  {
   "cell_type": "markdown",
   "metadata": {},
   "source": [
    "## YingYang"
   ]
  },
  {
   "cell_type": "code",
   "execution_count": 31,
   "metadata": {},
   "outputs": [
    {
     "name": "stdout",
     "output_type": "stream",
     "text": [
      "  9.970 s (23622 allocations: 346.02 MiB)\n"
     ]
    }
   ],
   "source": [
    "@btime [ParallelKMeans.kmeans(Yinyang(7), $X_1m, i; tol=1e-6, max_iters=1000, verbose=false).totalcost for i = 2:10];"
   ]
  },
  {
   "cell_type": "code",
   "execution_count": 32,
   "metadata": {},
   "outputs": [
    {
     "name": "stdout",
     "output_type": "stream",
     "text": [
      "  1.146 s (31409 allocations: 37.89 MiB)\n"
     ]
    }
   ],
   "source": [
    "@btime [ParallelKMeans.kmeans(Yinyang(7), $X_100k, i; tol=1e-6, max_iters=1000, verbose=false).totalcost for i = 2:10];"
   ]
  },
  {
   "cell_type": "code",
   "execution_count": 33,
   "metadata": {},
   "outputs": [
    {
     "name": "stdout",
     "output_type": "stream",
     "text": [
      "  108.337 ms (24498 allocations: 6.24 MiB)\n"
     ]
    }
   ],
   "source": [
    "@btime [ParallelKMeans.kmeans(Yinyang(7), $X_10k, i; tol=1e-6, max_iters=1000, verbose=false).totalcost for i = 2:10];"
   ]
  },
  {
   "cell_type": "code",
   "execution_count": 34,
   "metadata": {},
   "outputs": [
    {
     "name": "stdout",
     "output_type": "stream",
     "text": [
      "  7.044 ms (9805 allocations: 1.53 MiB)\n"
     ]
    }
   ],
   "source": [
    "@btime [ParallelKMeans.kmeans(Yinyang(7), $X_1k, i; tol=1e-6, max_iters=1000, verbose=false).totalcost for i = 2:10];"
   ]
  },
  {
   "cell_type": "code",
   "execution_count": null,
   "metadata": {},
   "outputs": [],
   "source": []
  }
 ],
 "metadata": {
  "kernelspec": {
   "display_name": "Julia 1.4.1",
   "language": "julia",
   "name": "julia-1.4"
  },
  "language_info": {
   "file_extension": ".jl",
   "mimetype": "application/julia",
   "name": "julia",
   "version": "1.4.1"
  },
  "nteract": {
   "version": "0.22.4"
  }
 },
 "nbformat": 4,
 "nbformat_minor": 4
}
