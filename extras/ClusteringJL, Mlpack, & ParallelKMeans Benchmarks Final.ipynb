{
 "cells": [
  {
   "cell_type": "markdown",
   "metadata": {},
   "source": [
    "# 1.0 Load Packages & Testing Data"
   ]
  },
  {
   "cell_type": "code",
   "execution_count": 1,
   "metadata": {},
   "outputs": [
    {
     "data": {
      "text/plain": [
       "6"
      ]
     },
     "execution_count": 1,
     "metadata": {},
     "output_type": "execute_result"
    }
   ],
   "source": [
    "Threads.nthreads()"
   ]
  },
  {
   "cell_type": "code",
   "execution_count": 2,
   "metadata": {},
   "outputs": [],
   "source": [
    "# Load Packages\n",
    "using Clustering\n",
    "using ParallelKMeans\n",
    "using BenchmarkTools\n",
    "using DelimitedFiles\n",
    "using mlpack"
   ]
  },
  {
   "cell_type": "markdown",
   "metadata": {},
   "source": [
    "## Read Data as transposed matrices since Julia is column major"
   ]
  },
  {
   "cell_type": "code",
   "execution_count": 3,
   "metadata": {},
   "outputs": [],
   "source": [
    "X_1m = permutedims(DelimitedFiles.readdlm(\"data_1m.csv\", ',', Float64));"
   ]
  },
  {
   "cell_type": "code",
   "execution_count": 4,
   "metadata": {},
   "outputs": [],
   "source": [
    "X_100k = permutedims(DelimitedFiles.readdlm(\"data_100k.csv\", ',', Float64));"
   ]
  },
  {
   "cell_type": "code",
   "execution_count": 5,
   "metadata": {},
   "outputs": [],
   "source": [
    "X_10k = permutedims(DelimitedFiles.readdlm(\"data_10k.csv\", ',', Float64));"
   ]
  },
  {
   "cell_type": "code",
   "execution_count": 6,
   "metadata": {},
   "outputs": [],
   "source": [
    "X_1k = permutedims(DelimitedFiles.readdlm(\"data_1k.csv\", ',', Float64));"
   ]
  },
  {
   "cell_type": "code",
   "execution_count": null,
   "metadata": {},
   "outputs": [],
   "source": []
  },
  {
   "cell_type": "markdown",
   "metadata": {},
   "source": [
    "## Row-wise Data For mlpack"
   ]
  },
  {
   "cell_type": "code",
   "execution_count": 7,
   "metadata": {},
   "outputs": [],
   "source": [
    "X_1m_mlp = permutedims(X_1m);"
   ]
  },
  {
   "cell_type": "code",
   "execution_count": 8,
   "metadata": {},
   "outputs": [],
   "source": [
    "X_100k_mlp = permutedims(X_100k);"
   ]
  },
  {
   "cell_type": "code",
   "execution_count": 9,
   "metadata": {},
   "outputs": [],
   "source": [
    "X_10k_mlp = permutedims(X_10k);"
   ]
  },
  {
   "cell_type": "code",
   "execution_count": 10,
   "metadata": {},
   "outputs": [],
   "source": [
    "X_1k_mlp = permutedims(X_1k);"
   ]
  },
  {
   "cell_type": "code",
   "execution_count": null,
   "metadata": {},
   "outputs": [],
   "source": []
  },
  {
   "cell_type": "markdown",
   "metadata": {},
   "source": [
    "# Elbow Method MLPACK"
   ]
  },
  {
   "cell_type": "code",
   "execution_count": 11,
   "metadata": {},
   "outputs": [
    {
     "name": "stdout",
     "output_type": "stream",
     "text": [
      "  238.716 s (85 allocations: 2.08 GiB)\n"
     ]
    }
   ],
   "source": [
    "@btime [mlpack.kmeans(i, $X_1m_mlp; algorithm=\"hamerly\", max_iterations=1000)[1] for i = 2:10];"
   ]
  },
  {
   "cell_type": "code",
   "execution_count": 12,
   "metadata": {},
   "outputs": [
    {
     "name": "stdout",
     "output_type": "stream",
     "text": [
      "  20.224 s (85 allocations: 212.88 MiB)\n"
     ]
    }
   ],
   "source": [
    "@btime [mlpack.kmeans(i, $X_100k_mlp; algorithm=\"hamerly\", max_iterations=1000)[1] for i = 2:10];"
   ]
  },
  {
   "cell_type": "code",
   "execution_count": 13,
   "metadata": {},
   "outputs": [
    {
     "name": "stdout",
     "output_type": "stream",
     "text": [
      "  721.430 ms (85 allocations: 21.30 MiB)\n"
     ]
    }
   ],
   "source": [
    "@btime [mlpack.kmeans(i, $X_10k_mlp; algorithm=\"hamerly\", max_iterations=1000)[1] for i = 2:10];"
   ]
  },
  {
   "cell_type": "code",
   "execution_count": 14,
   "metadata": {},
   "outputs": [
    {
     "name": "stdout",
     "output_type": "stream",
     "text": [
      "  24.581 ms (85 allocations: 2.14 MiB)\n"
     ]
    }
   ],
   "source": [
    "@btime [mlpack.kmeans(i, $X_1k_mlp; algorithm=\"hamerly\", max_iterations=1000)[1] for i = 2:10];"
   ]
  },
  {
   "cell_type": "code",
   "execution_count": null,
   "metadata": {},
   "outputs": [],
   "source": []
  },
  {
   "cell_type": "markdown",
   "metadata": {},
   "source": [
    "# 2.0 Elbow Method Clustering.jl"
   ]
  },
  {
   "cell_type": "code",
   "execution_count": 15,
   "metadata": {},
   "outputs": [
    {
     "name": "stdout",
     "output_type": "stream",
     "text": [
      "  580.079 s (32485 allocations: 34.42 GiB)\n"
     ]
    }
   ],
   "source": [
    "@btime [Clustering.kmeans($X_1m, i; tol=1e-6, maxiter=1000).totalcost for i = 2:10];"
   ]
  },
  {
   "cell_type": "code",
   "execution_count": 16,
   "metadata": {},
   "outputs": [
    {
     "name": "stdout",
     "output_type": "stream",
     "text": [
      "  47.804 s (27599 allocations: 2.90 GiB)\n"
     ]
    }
   ],
   "source": [
    "@btime [Clustering.kmeans($X_100k, i; tol=1e-6, maxiter=1000).totalcost for i = 2:10];"
   ]
  },
  {
   "cell_type": "code",
   "execution_count": 17,
   "metadata": {},
   "outputs": [
    {
     "name": "stdout",
     "output_type": "stream",
     "text": [
      "  882.486 ms (8650 allocations: 93.42 MiB)\n"
     ]
    }
   ],
   "source": [
    "@btime [Clustering.kmeans($X_10k, i; tol=1e-6, maxiter=1000).totalcost for i = 2:10]; "
   ]
  },
  {
   "cell_type": "code",
   "execution_count": 18,
   "metadata": {},
   "outputs": [
    {
     "name": "stdout",
     "output_type": "stream",
     "text": [
      "  17.424 ms (1577 allocations: 2.20 MiB)\n"
     ]
    }
   ],
   "source": [
    "@btime [Clustering.kmeans($X_1k, i; tol=1e-6, maxiter=1000).totalcost for i = 2:10]; "
   ]
  },
  {
   "cell_type": "code",
   "execution_count": null,
   "metadata": {},
   "outputs": [],
   "source": []
  },
  {
   "cell_type": "markdown",
   "metadata": {},
   "source": [
    "# 3.0 Elbow Method Speed ParallelKMeans.jl"
   ]
  },
  {
   "cell_type": "markdown",
   "metadata": {},
   "source": [
    "## Lloyd"
   ]
  },
  {
   "cell_type": "code",
   "execution_count": 19,
   "metadata": {},
   "outputs": [
    {
     "name": "stdout",
     "output_type": "stream",
     "text": [
      "  22.946 s (43965 allocations: 210.36 MiB)\n"
     ]
    }
   ],
   "source": [
    "@btime [ParallelKMeans.kmeans(Lloyd(), $X_1m, i; tol=1e-6, max_iters=1000, verbose=false).totalcost for i = 2:10];"
   ]
  },
  {
   "cell_type": "code",
   "execution_count": 20,
   "metadata": {},
   "outputs": [
    {
     "name": "stdout",
     "output_type": "stream",
     "text": [
      "  2.844 s (54383 allocations: 26.01 MiB)\n"
     ]
    }
   ],
   "source": [
    "@btime [ParallelKMeans.kmeans(Lloyd(), $X_100k, i; tol=1e-6, max_iters=1000, verbose=false).totalcost for i = 2:10];"
   ]
  },
  {
   "cell_type": "code",
   "execution_count": 21,
   "metadata": {},
   "outputs": [
    {
     "name": "stdout",
     "output_type": "stream",
     "text": [
      "  177.329 ms (34604 allocations: 5.56 MiB)\n"
     ]
    }
   ],
   "source": [
    "@btime [ParallelKMeans.kmeans(Lloyd(), $X_10k, i; tol=1e-6, max_iters=1000, verbose=false).totalcost for i = 2:10];"
   ]
  },
  {
   "cell_type": "code",
   "execution_count": 22,
   "metadata": {},
   "outputs": [
    {
     "name": "stdout",
     "output_type": "stream",
     "text": [
      "  6.403 ms (10587 allocations: 1.37 MiB)\n"
     ]
    }
   ],
   "source": [
    "@btime [ParallelKMeans.kmeans(Lloyd(), $X_1k, i; tol=1e-6, max_iters=1000, verbose=false).totalcost for i = 2:10];"
   ]
  },
  {
   "cell_type": "markdown",
   "metadata": {},
   "source": [
    "## Hamerly"
   ]
  },
  {
   "cell_type": "code",
   "execution_count": 23,
   "metadata": {},
   "outputs": [
    {
     "name": "stdout",
     "output_type": "stream",
     "text": [
      "  11.084 s (52379 allocations: 349.14 MiB)\n"
     ]
    }
   ],
   "source": [
    "@btime [ParallelKMeans.kmeans(Hamerly(), $X_1m, i; tol=1e-6, max_iters=1000, verbose=false).totalcost for i = 2:10];"
   ]
  },
  {
   "cell_type": "code",
   "execution_count": 24,
   "metadata": {},
   "outputs": [
    {
     "name": "stdout",
     "output_type": "stream",
     "text": [
      "  1.160 s (67677 allocations: 41.87 MiB)\n"
     ]
    }
   ],
   "source": [
    "@btime [ParallelKMeans.kmeans(Hamerly(), $X_100k, i; tol=1e-6, max_iters=1000, verbose=false).totalcost for i = 2:10];"
   ]
  },
  {
   "cell_type": "code",
   "execution_count": 25,
   "metadata": {},
   "outputs": [
    {
     "name": "stdout",
     "output_type": "stream",
     "text": [
      "  96.670 ms (58154 allocations: 9.93 MiB)\n"
     ]
    }
   ],
   "source": [
    "@btime [ParallelKMeans.kmeans(Hamerly(), $X_10k, i; tol=1e-6, max_iters=1000, verbose=false).totalcost for i = 2:10];"
   ]
  },
  {
   "cell_type": "code",
   "execution_count": 26,
   "metadata": {
    "scrolled": true
   },
   "outputs": [
    {
     "name": "stdout",
     "output_type": "stream",
     "text": [
      "  6.459 ms (16734 allocations: 2.29 MiB)\n"
     ]
    }
   ],
   "source": [
    "@btime [ParallelKMeans.kmeans(Hamerly(), $X_1k, i; tol=1e-6, max_iters=1000, verbose=false).totalcost for i = 2:10];"
   ]
  },
  {
   "cell_type": "code",
   "execution_count": null,
   "metadata": {},
   "outputs": [],
   "source": []
  },
  {
   "cell_type": "markdown",
   "metadata": {},
   "source": [
    "# Elkan"
   ]
  },
  {
   "cell_type": "code",
   "execution_count": 27,
   "metadata": {},
   "outputs": [
    {
     "name": "stdout",
     "output_type": "stream",
     "text": [
      "  13.773 s (50855 allocations: 700.80 MiB)\n"
     ]
    }
   ],
   "source": [
    "@btime [ParallelKMeans.kmeans(Elkan(), $X_1m, i; tol=1e-6, max_iters=1000, verbose=false).totalcost for i = 2:10];"
   ]
  },
  {
   "cell_type": "code",
   "execution_count": 28,
   "metadata": {},
   "outputs": [
    {
     "name": "stdout",
     "output_type": "stream",
     "text": [
      "  1.457 s (69447 allocations: 77.21 MiB)\n"
     ]
    }
   ],
   "source": [
    "@btime [ParallelKMeans.kmeans(Elkan(), $X_100k, i; tol=1e-6, max_iters=1000, verbose=false).totalcost for i = 2:10];"
   ]
  },
  {
   "cell_type": "code",
   "execution_count": 29,
   "metadata": {},
   "outputs": [
    {
     "name": "stdout",
     "output_type": "stream",
     "text": [
      "  80.484 ms (46490 allocations: 12.13 MiB)\n"
     ]
    }
   ],
   "source": [
    "@btime [ParallelKMeans.kmeans(Elkan(), $X_10k, i; tol=1e-6, max_iters=1000, verbose=false).totalcost for i = 2:10];"
   ]
  },
  {
   "cell_type": "code",
   "execution_count": 30,
   "metadata": {
    "scrolled": true
   },
   "outputs": [
    {
     "name": "stdout",
     "output_type": "stream",
     "text": [
      "  6.854 ms (17482 allocations: 2.71 MiB)\n"
     ]
    }
   ],
   "source": [
    "@btime [ParallelKMeans.kmeans(Elkan(), $X_1k, i; tol=1e-6, max_iters=1000, verbose=false).totalcost for i = 2:10];"
   ]
  }
 ],
 "metadata": {
  "kernelspec": {
   "display_name": "Julia 1.4.1",
   "language": "julia",
   "name": "julia-1.4"
  },
  "language_info": {
   "file_extension": ".jl",
   "mimetype": "application/julia",
   "name": "julia",
   "version": "1.4.1"
  },
  "nteract": {
   "version": "0.22.4"
  }
 },
 "nbformat": 4,
 "nbformat_minor": 4
}
