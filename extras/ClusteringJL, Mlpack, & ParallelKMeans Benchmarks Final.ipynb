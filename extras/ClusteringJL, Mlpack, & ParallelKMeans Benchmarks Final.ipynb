{
 "cells": [
  {
   "cell_type": "markdown",
   "metadata": {},
   "source": [
    "# 1.0 Load Packages & Testing Data"
   ]
  },
  {
   "cell_type": "code",
   "execution_count": 1,
   "metadata": {},
   "outputs": [
    {
     "data": {
      "text/plain": [
       "6"
      ]
     },
     "execution_count": 1,
     "metadata": {},
     "output_type": "execute_result"
    }
   ],
   "source": [
    "Threads.nthreads()"
   ]
  },
  {
   "cell_type": "code",
   "execution_count": 2,
   "metadata": {},
   "outputs": [],
   "source": [
    "# Load Packages\n",
    "using Clustering\n",
    "using ParallelKMeans\n",
    "using BenchmarkTools\n",
    "using DelimitedFiles\n",
    "using mlpack"
   ]
  },
  {
   "cell_type": "markdown",
   "metadata": {},
   "source": [
    "## Read Data as transposed matrices since Julia is column major"
   ]
  },
  {
   "cell_type": "code",
   "execution_count": 3,
   "metadata": {},
   "outputs": [],
   "source": [
    "X_1m = permutedims(DelimitedFiles.readdlm(\"data_1m.csv\", ',', Float64));"
   ]
  },
  {
   "cell_type": "code",
   "execution_count": 4,
   "metadata": {},
   "outputs": [],
   "source": [
    "X_100k = permutedims(DelimitedFiles.readdlm(\"data_100k.csv\", ',', Float64));"
   ]
  },
  {
   "cell_type": "code",
   "execution_count": 5,
   "metadata": {},
   "outputs": [],
   "source": [
    "X_10k = permutedims(DelimitedFiles.readdlm(\"data_10k.csv\", ',', Float64));"
   ]
  },
  {
   "cell_type": "code",
   "execution_count": 6,
   "metadata": {},
   "outputs": [],
   "source": [
    "X_1k = permutedims(DelimitedFiles.readdlm(\"data_1k.csv\", ',', Float64));"
   ]
  },
  {
   "cell_type": "code",
   "execution_count": null,
   "metadata": {},
   "outputs": [],
   "source": []
  },
  {
   "cell_type": "markdown",
   "metadata": {},
   "source": [
    "## Row-wise Data For mlpack"
   ]
  },
  {
   "cell_type": "code",
   "execution_count": 7,
   "metadata": {},
   "outputs": [],
   "source": [
    "X_1m_mlp = permutedims(X_1m);"
   ]
  },
  {
   "cell_type": "code",
   "execution_count": 8,
   "metadata": {},
   "outputs": [],
   "source": [
    "X_100k_mlp = permutedims(X_100k);"
   ]
  },
  {
   "cell_type": "code",
   "execution_count": 9,
   "metadata": {},
   "outputs": [],
   "source": [
    "X_10k_mlp = permutedims(X_10k);"
   ]
  },
  {
   "cell_type": "code",
   "execution_count": 10,
   "metadata": {},
   "outputs": [],
   "source": [
    "X_1k_mlp = permutedims(X_1k);"
   ]
  },
  {
   "cell_type": "code",
   "execution_count": null,
   "metadata": {},
   "outputs": [],
   "source": []
  },
  {
   "cell_type": "markdown",
   "metadata": {},
   "source": [
    "# Elbow Method MLPACK"
   ]
  },
  {
   "cell_type": "code",
   "execution_count": 11,
   "metadata": {},
   "outputs": [
    {
     "name": "stdout",
     "output_type": "stream",
     "text": [
      "  254.481 s (93 allocations: 2.08 GiB)\n"
     ]
    }
   ],
   "source": [
    "@btime [mlpack.kmeans(i, $X_1m_mlp; algorithm=\"hamerly\", max_iterations=100_000)[1] for i = 2:10];"
   ]
  },
  {
   "cell_type": "code",
   "execution_count": 12,
   "metadata": {},
   "outputs": [
    {
     "name": "stdout",
     "output_type": "stream",
     "text": [
      "  18.517 s (93 allocations: 212.88 MiB)\n"
     ]
    }
   ],
   "source": [
    "@btime [mlpack.kmeans(i, $X_100k_mlp; algorithm=\"hamerly\", max_iterations=100_000)[1] for i = 2:10];"
   ]
  },
  {
   "cell_type": "code",
   "execution_count": 13,
   "metadata": {},
   "outputs": [
    {
     "name": "stdout",
     "output_type": "stream",
     "text": [
      "  794.956 ms (93 allocations: 21.30 MiB)\n"
     ]
    }
   ],
   "source": [
    "@btime [mlpack.kmeans(i, $X_10k_mlp; algorithm=\"hamerly\", max_iterations=100_000)[1] for i = 2:10];"
   ]
  },
  {
   "cell_type": "code",
   "execution_count": 14,
   "metadata": {},
   "outputs": [
    {
     "name": "stdout",
     "output_type": "stream",
     "text": [
      "  31.211 ms (93 allocations: 2.14 MiB)\n"
     ]
    }
   ],
   "source": [
    "@btime [mlpack.kmeans(i, $X_1k_mlp; algorithm=\"hamerly\", max_iterations=100_000)[1] for i = 2:10];"
   ]
  },
  {
   "cell_type": "code",
   "execution_count": null,
   "metadata": {},
   "outputs": [],
   "source": []
  },
  {
   "cell_type": "markdown",
   "metadata": {},
   "source": [
    "# 2.0 Elbow Method Clustering.jl"
   ]
  },
  {
   "cell_type": "code",
   "execution_count": 15,
   "metadata": {},
   "outputs": [
    {
     "name": "stdout",
     "output_type": "stream",
     "text": [
      "  653.178 s (21031 allocations: 39.26 GiB)\n"
     ]
    }
   ],
   "source": [
    "@btime [Clustering.kmeans($X_1m, i; tol=1e-6, maxiter=100_000).totalcost for i = 2:10];"
   ]
  },
  {
   "cell_type": "code",
   "execution_count": 16,
   "metadata": {},
   "outputs": [
    {
     "name": "stdout",
     "output_type": "stream",
     "text": [
      "  45.468 s (14876 allocations: 2.78 GiB)\n"
     ]
    }
   ],
   "source": [
    "@btime [Clustering.kmeans($X_100k, i; tol=1e-6, maxiter=100_000).totalcost for i = 2:10];"
   ]
  },
  {
   "cell_type": "code",
   "execution_count": 17,
   "metadata": {},
   "outputs": [
    {
     "name": "stdout",
     "output_type": "stream",
     "text": [
      "  824.115 ms (4294 allocations: 83.90 MiB)\n"
     ]
    }
   ],
   "source": [
    "@btime [Clustering.kmeans($X_10k, i; tol=1e-6, maxiter=100_000).totalcost for i = 2:10]; "
   ]
  },
  {
   "cell_type": "code",
   "execution_count": 18,
   "metadata": {},
   "outputs": [
    {
     "name": "stdout",
     "output_type": "stream",
     "text": [
      "  17.301 ms (767 allocations: 2.24 MiB)\n"
     ]
    }
   ],
   "source": [
    "@btime [Clustering.kmeans($X_1k, i; tol=1e-6, maxiter=100_000).totalcost for i = 2:10]; "
   ]
  },
  {
   "cell_type": "code",
   "execution_count": null,
   "metadata": {},
   "outputs": [],
   "source": []
  },
  {
   "cell_type": "markdown",
   "metadata": {},
   "source": [
    "# 3.0 Elbow Method Speed ParallelKMeans.jl"
   ]
  },
  {
   "cell_type": "markdown",
   "metadata": {},
   "source": [
    "## Lloyd"
   ]
  },
  {
   "cell_type": "code",
   "execution_count": 19,
   "metadata": {},
   "outputs": [
    {
     "name": "stdout",
     "output_type": "stream",
     "text": [
      "  19.955 s (40915 allocations: 140.36 MiB)\n"
     ]
    }
   ],
   "source": [
    "@btime [ParallelKMeans.kmeans(Lloyd(), $X_1m, i; tol=1e-6, max_iters=100_000, verbose=false).totalcost for i = 2:10];"
   ]
  },
  {
   "cell_type": "code",
   "execution_count": 20,
   "metadata": {},
   "outputs": [
    {
     "name": "stdout",
     "output_type": "stream",
     "text": [
      "  2.758 s (52724 allocations: 17.65 MiB)\n"
     ]
    }
   ],
   "source": [
    "@btime [ParallelKMeans.kmeans(Lloyd(), $X_100k, i; tol=1e-6, max_iters=100_000, verbose=false).totalcost for i = 2:10];"
   ]
  },
  {
   "cell_type": "code",
   "execution_count": 21,
   "metadata": {},
   "outputs": [
    {
     "name": "stdout",
     "output_type": "stream",
     "text": [
      "  166.957 ms (31942 allocations: 3.80 MiB)\n"
     ]
    }
   ],
   "source": [
    "@btime [ParallelKMeans.kmeans(Lloyd(), $X_10k, i; tol=1e-6, max_iters=100_000, verbose=false).totalcost for i = 2:10];"
   ]
  },
  {
   "cell_type": "code",
   "execution_count": 22,
   "metadata": {},
   "outputs": [
    {
     "name": "stdout",
     "output_type": "stream",
     "text": [
      "  9.206 ms (9792 allocations: 987.77 KiB)\n"
     ]
    }
   ],
   "source": [
    "@btime [ParallelKMeans.kmeans(Lloyd(), $X_1k, i; tol=1e-6, max_iters=100_000, verbose=false).totalcost for i = 2:10];"
   ]
  },
  {
   "cell_type": "markdown",
   "metadata": {},
   "source": [
    "## Hamerly"
   ]
  },
  {
   "cell_type": "code",
   "execution_count": 23,
   "metadata": {},
   "outputs": [
    {
     "name": "stdout",
     "output_type": "stream",
     "text": [
      "  11.234 s (50446 allocations: 278.97 MiB)\n"
     ]
    }
   ],
   "source": [
    "@btime [ParallelKMeans.kmeans(Hamerly(), $X_1m, i; tol=1e-6, max_iters=100_000, verbose=false).totalcost for i = 2:10];"
   ]
  },
  {
   "cell_type": "code",
   "execution_count": 24,
   "metadata": {},
   "outputs": [
    {
     "name": "stdout",
     "output_type": "stream",
     "text": [
      "  1.654 s (85374 allocations: 34.73 MiB)\n"
     ]
    }
   ],
   "source": [
    "@btime [ParallelKMeans.kmeans(Hamerly(), $X_100k, i; tol=1e-6, max_iters=100_000, verbose=false).totalcost for i = 2:10];"
   ]
  },
  {
   "cell_type": "code",
   "execution_count": 25,
   "metadata": {},
   "outputs": [
    {
     "name": "stdout",
     "output_type": "stream",
     "text": [
      "  109.074 ms (51352 allocations: 7.16 MiB)\n"
     ]
    }
   ],
   "source": [
    "@btime [ParallelKMeans.kmeans(Hamerly(), $X_10k, i; tol=1e-6, max_iters=100_000, verbose=false).totalcost for i = 2:10];"
   ]
  },
  {
   "cell_type": "code",
   "execution_count": 26,
   "metadata": {
    "scrolled": true
   },
   "outputs": [
    {
     "name": "stdout",
     "output_type": "stream",
     "text": [
      "  12.819 ms (16050 allocations: 1.72 MiB)\n"
     ]
    }
   ],
   "source": [
    "@btime [ParallelKMeans.kmeans(Hamerly(), $X_1k, i; tol=1e-6, max_iters=100_000, verbose=false).totalcost for i = 2:10];"
   ]
  },
  {
   "cell_type": "code",
   "execution_count": null,
   "metadata": {},
   "outputs": [],
   "source": []
  },
  {
   "cell_type": "markdown",
   "metadata": {},
   "source": [
    "# Elkan"
   ]
  },
  {
   "cell_type": "code",
   "execution_count": 27,
   "metadata": {},
   "outputs": [
    {
     "name": "stdout",
     "output_type": "stream",
     "text": [
      "  19.394 s (65605 allocations: 632.12 MiB)\n"
     ]
    }
   ],
   "source": [
    "@btime [ParallelKMeans.kmeans(Elkan(), $X_1m, i; tol=1e-6, max_iters=100_000, verbose=false).totalcost for i = 2:10];"
   ]
  },
  {
   "cell_type": "code",
   "execution_count": 28,
   "metadata": {},
   "outputs": [
    {
     "name": "stdout",
     "output_type": "stream",
     "text": [
      "  1.436 s (57010 allocations: 67.54 MiB)\n"
     ]
    }
   ],
   "source": [
    "@btime [ParallelKMeans.kmeans(Elkan(), $X_100k, i; tol=1e-6, max_iters=100_000, verbose=false).totalcost for i = 2:10];"
   ]
  },
  {
   "cell_type": "code",
   "execution_count": 29,
   "metadata": {},
   "outputs": [
    {
     "name": "stdout",
     "output_type": "stream",
     "text": [
      "  109.262 ms (48980 allocations: 10.48 MiB)\n"
     ]
    }
   ],
   "source": [
    "@btime [ParallelKMeans.kmeans(Elkan(), $X_10k, i; tol=1e-6, max_iters=100_000, verbose=false).totalcost for i = 2:10];"
   ]
  },
  {
   "cell_type": "code",
   "execution_count": 30,
   "metadata": {
    "scrolled": true
   },
   "outputs": [
    {
     "name": "stdout",
     "output_type": "stream",
     "text": [
      "  13.726 ms (16348 allocations: 2.10 MiB)\n"
     ]
    }
   ],
   "source": [
    "@btime [ParallelKMeans.kmeans(Elkan(), $X_1k, i; tol=1e-6, max_iters=100_000, verbose=false).totalcost for i = 2:10];"
   ]
  },
  {
   "cell_type": "code",
   "execution_count": null,
   "metadata": {},
   "outputs": [],
   "source": []
  },
  {
   "cell_type": "markdown",
   "metadata": {},
   "source": [
    "## YingYang"
   ]
  },
  {
   "cell_type": "code",
   "execution_count": 31,
   "metadata": {},
   "outputs": [
    {
     "name": "stdout",
     "output_type": "stream",
     "text": [
      "  14.080 s (31669 allocations: 277.54 MiB)\n"
     ]
    }
   ],
   "source": [
    "@btime [ParallelKMeans.kmeans(Yinyang(7), $X_1m, i; tol=1e-6, max_iters=100_000, verbose=false).totalcost for i = 2:10];"
   ]
  },
  {
   "cell_type": "code",
   "execution_count": 32,
   "metadata": {},
   "outputs": [
    {
     "name": "stdout",
     "output_type": "stream",
     "text": [
      "  972.914 ms (24387 allocations: 29.71 MiB)\n"
     ]
    }
   ],
   "source": [
    "@btime [ParallelKMeans.kmeans(Yinyang(7), $X_100k, i; tol=1e-6, max_iters=100_000, verbose=false).totalcost for i = 2:10];"
   ]
  },
  {
   "cell_type": "code",
   "execution_count": 33,
   "metadata": {},
   "outputs": [
    {
     "name": "stdout",
     "output_type": "stream",
     "text": [
      "  95.325 ms (23881 allocations: 4.96 MiB)\n"
     ]
    }
   ],
   "source": [
    "@btime [ParallelKMeans.kmeans(Yinyang(7), $X_10k, i; tol=1e-6, max_iters=100_000, verbose=false).totalcost for i = 2:10];"
   ]
  },
  {
   "cell_type": "code",
   "execution_count": 34,
   "metadata": {},
   "outputs": [
    {
     "name": "stdout",
     "output_type": "stream",
     "text": [
      "  9.802 ms (8812 allocations: 1.15 MiB)\n"
     ]
    }
   ],
   "source": [
    "@btime [ParallelKMeans.kmeans(Yinyang(7), $X_1k, i; tol=1e-6, max_iters=100_000, verbose=false).totalcost for i = 2:10];"
   ]
  },
  {
   "cell_type": "code",
   "execution_count": null,
   "metadata": {},
   "outputs": [],
   "source": []
  }
 ],
 "metadata": {
  "kernelspec": {
   "display_name": "Julia 1.6.1",
   "language": "julia",
   "name": "julia-1.6"
  },
  "language_info": {
   "file_extension": ".jl",
   "mimetype": "application/julia",
   "name": "julia",
   "version": "1.6.1"
  },
  "nteract": {
   "version": "0.22.4"
  }
 },
 "nbformat": 4,
 "nbformat_minor": 4
}
