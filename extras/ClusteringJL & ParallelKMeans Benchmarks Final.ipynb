{
 "cells": [
  {
   "cell_type": "markdown",
   "metadata": {},
   "source": [
    "# 1.0 Load Packages & Testing Data"
   ]
  },
  {
   "cell_type": "code",
   "execution_count": 1,
   "metadata": {},
   "outputs": [
    {
     "data": {
      "text/plain": [
       "6"
      ]
     },
     "execution_count": 1,
     "metadata": {},
     "output_type": "execute_result"
    }
   ],
   "source": [
    "Threads.nthreads()"
   ]
  },
  {
   "cell_type": "code",
   "execution_count": 2,
   "metadata": {},
   "outputs": [],
   "source": [
    "# Load Packages\n",
    "using Clustering\n",
    "using ParallelKMeans\n",
    "using BenchmarkTools\n",
    "using DelimitedFiles"
   ]
  },
  {
   "cell_type": "markdown",
   "metadata": {},
   "source": [
    "## Read Data as transposed matrices since Julia is column major"
   ]
  },
  {
   "cell_type": "code",
   "execution_count": 3,
   "metadata": {},
   "outputs": [],
   "source": [
    "X_1m = permutedims(DelimitedFiles.readdlm(\"data_1m.csv\", ',', Float64));"
   ]
  },
  {
   "cell_type": "code",
   "execution_count": 4,
   "metadata": {},
   "outputs": [],
   "source": [
    "X_100k = permutedims(DelimitedFiles.readdlm(\"data_100k.csv\", ',', Float64));"
   ]
  },
  {
   "cell_type": "code",
   "execution_count": 5,
   "metadata": {},
   "outputs": [],
   "source": [
    "X_10k = permutedims(DelimitedFiles.readdlm(\"data_10k.csv\", ',', Float64));"
   ]
  },
  {
   "cell_type": "code",
   "execution_count": 6,
   "metadata": {},
   "outputs": [],
   "source": [
    "X_1k = permutedims(DelimitedFiles.readdlm(\"data_1k.csv\", ',', Float64));"
   ]
  },
  {
   "cell_type": "code",
   "execution_count": null,
   "metadata": {},
   "outputs": [],
   "source": []
  },
  {
   "cell_type": "markdown",
   "metadata": {},
   "source": [
    "# 2.0 Elbow Method Clustering.jl"
   ]
  },
  {
   "cell_type": "code",
   "execution_count": 7,
   "metadata": {},
   "outputs": [
    {
     "name": "stdout",
     "output_type": "stream",
     "text": [
      "  666.840 s (39552 allocations: 42.20 GiB)\n"
     ]
    },
    {
     "data": {
      "text/plain": [
       "9-element Array{Float64,1}:\n",
       " 2.4375022036585887e6\n",
       " 2.3995026350645283e6\n",
       " 2.368956147241305e6\n",
       " 2.3465189109189017e6\n",
       " 2.3269519086732655e6\n",
       " 2.309690084759929e6\n",
       " 2.293811805984634e6\n",
       " 2.280594080957371e6\n",
       " 2.268225523325909e6"
      ]
     },
     "execution_count": 7,
     "metadata": {},
     "output_type": "execute_result"
    }
   ],
   "source": [
    "@btime [Clustering.kmeans(X_1m, i; tol=1e-6, maxiter=1000).totalcost for i = 2:10]"
   ]
  },
  {
   "cell_type": "code",
   "execution_count": 8,
   "metadata": {},
   "outputs": [
    {
     "name": "stdout",
     "output_type": "stream",
     "text": [
      "  34.034 s (21478 allocations: 2.21 GiB)\n"
     ]
    },
    {
     "data": {
      "text/plain": [
       "9-element Array{Float64,1}:\n",
       " 243594.45278279012\n",
       " 239811.28569635848\n",
       " 236703.8272640062\n",
       " 234462.62502097985\n",
       " 232489.97314096565\n",
       " 230723.0485242891\n",
       " 229157.1972914591\n",
       " 227739.77975983976\n",
       " 226472.3094850646"
      ]
     },
     "execution_count": 8,
     "metadata": {},
     "output_type": "execute_result"
    }
   ],
   "source": [
    "@btime [Clustering.kmeans(X_100k, i; tol=1e-6, maxiter=1000).totalcost for i = 2:10]"
   ]
  },
  {
   "cell_type": "code",
   "execution_count": 9,
   "metadata": {},
   "outputs": [
    {
     "name": "stdout",
     "output_type": "stream",
     "text": [
      "  709.049 ms (7695 allocations: 81.68 MiB)\n"
     ]
    },
    {
     "data": {
      "text/plain": [
       "9-element Array{Float64,1}:\n",
       " 24275.444286222566\n",
       " 23875.557020184788\n",
       " 23578.946955787447\n",
       " 23318.473142828305\n",
       " 23084.67069252044\n",
       " 22875.085488870653\n",
       " 22717.258454559385\n",
       " 22550.670739108667\n",
       " 22418.63818326847"
      ]
     },
     "execution_count": 9,
     "metadata": {},
     "output_type": "execute_result"
    }
   ],
   "source": [
    "@btime [Clustering.kmeans(X_10k, i; tol=1e-6, maxiter=1000).totalcost for i = 2:10] "
   ]
  },
  {
   "cell_type": "code",
   "execution_count": 10,
   "metadata": {},
   "outputs": [
    {
     "name": "stdout",
     "output_type": "stream",
     "text": [
      "  17.686 ms (1738 allocations: 2.35 MiB)\n"
     ]
    },
    {
     "data": {
      "text/plain": [
       "9-element Array{Float64,1}:\n",
       " 2418.380841440787\n",
       " 2366.269549833395\n",
       " 2324.782494422872\n",
       " 2295.0028498146385\n",
       " 2257.7141132498864\n",
       " 2240.752627243752\n",
       " 2217.2948134611097\n",
       " 2191.3630881577565\n",
       " 2179.0718331261965"
      ]
     },
     "execution_count": 10,
     "metadata": {},
     "output_type": "execute_result"
    }
   ],
   "source": [
    "@btime [Clustering.kmeans(X_1k, i; tol=1e-6, maxiter=1000).totalcost for i = 2:10] "
   ]
  },
  {
   "cell_type": "code",
   "execution_count": null,
   "metadata": {},
   "outputs": [],
   "source": []
  },
  {
   "cell_type": "markdown",
   "metadata": {},
   "source": [
    "# 3.0 Elbow Method Speed ParallelKMeans.jl"
   ]
  },
  {
   "cell_type": "markdown",
   "metadata": {},
   "source": [
    "## Lloyd"
   ]
  },
  {
   "cell_type": "code",
   "execution_count": 11,
   "metadata": {},
   "outputs": [
    {
     "name": "stdout",
     "output_type": "stream",
     "text": [
      "  21.730 s (44716 allocations: 210.45 MiB)\n"
     ]
    },
    {
     "data": {
      "text/plain": [
       "9-element Array{Float64,1}:\n",
       " 2.437523884802478e6\n",
       " 2.3994183127988405e6\n",
       " 2.369587418012976e6\n",
       " 2.3465842810245752e6\n",
       " 2.327195663893961e6\n",
       " 2.309860383274498e6\n",
       " 2.2935430149697494e6\n",
       " 2.280894938360677e6\n",
       " 2.26821335945493e6"
      ]
     },
     "execution_count": 11,
     "metadata": {},
     "output_type": "execute_result"
    }
   ],
   "source": [
    "@btime [ParallelKMeans.kmeans(Lloyd(), X_1m, i; tol=1e-6, max_iters=1000, verbose=false).totalcost for i = 2:10]"
   ]
  },
  {
   "cell_type": "code",
   "execution_count": 12,
   "metadata": {},
   "outputs": [
    {
     "name": "stdout",
     "output_type": "stream",
     "text": [
      "  2.975 s (58760 allocations: 26.38 MiB)\n"
     ]
    },
    {
     "data": {
      "text/plain": [
       "9-element Array{Float64,1}:\n",
       " 243631.78264891994\n",
       " 239792.4639819173\n",
       " 236755.72321950592\n",
       " 234464.24202293635\n",
       " 232529.77487873653\n",
       " 230734.45570173766\n",
       " 229165.76200897153\n",
       " 227686.15963125622\n",
       " 226438.54043162096"
      ]
     },
     "execution_count": 12,
     "metadata": {},
     "output_type": "execute_result"
    }
   ],
   "source": [
    "@btime [ParallelKMeans.kmeans(Lloyd(), X_100k, i; tol=1e-6, max_iters=1000, verbose=false).totalcost for i = 2:10]"
   ]
  },
  {
   "cell_type": "code",
   "execution_count": 13,
   "metadata": {},
   "outputs": [
    {
     "name": "stdout",
     "output_type": "stream",
     "text": [
      "  163.771 ms (34026 allocations: 5.51 MiB)\n"
     ]
    },
    {
     "data": {
      "text/plain": [
       "9-element Array{Float64,1}:\n",
       " 24271.648171204935\n",
       " 23894.119149999144\n",
       " 23573.616337801654\n",
       " 23337.5657444241\n",
       " 23078.763113354762\n",
       " 22891.475248180508\n",
       " 22707.85660316113\n",
       " 22549.977948341566\n",
       " 22401.95942618817"
      ]
     },
     "execution_count": 13,
     "metadata": {},
     "output_type": "execute_result"
    }
   ],
   "source": [
    "@btime [ParallelKMeans.kmeans(Lloyd(), X_10k, i; tol=1e-6, max_iters=1000, verbose=false).totalcost for i = 2:10]"
   ]
  },
  {
   "cell_type": "code",
   "execution_count": 14,
   "metadata": {},
   "outputs": [
    {
     "name": "stdout",
     "output_type": "stream",
     "text": [
      "  6.444 ms (10352 allocations: 1.35 MiB)\n"
     ]
    },
    {
     "data": {
      "text/plain": [
       "9-element Array{Float64,1}:\n",
       " 2417.0877173469385\n",
       " 2365.8133587840457\n",
       " 2324.6788690432386\n",
       " 2291.5290419226367\n",
       " 2269.5194919448163\n",
       " 2239.343846441753\n",
       " 2214.726735397414\n",
       " 2194.282617457555\n",
       " 2174.7872800729156"
      ]
     },
     "execution_count": 14,
     "metadata": {},
     "output_type": "execute_result"
    }
   ],
   "source": [
    "@btime [ParallelKMeans.kmeans(Lloyd(), X_1k, i; tol=1e-6, max_iters=1000, verbose=false).totalcost for i = 2:10]"
   ]
  },
  {
   "cell_type": "markdown",
   "metadata": {},
   "source": [
    "## Hamerly"
   ]
  },
  {
   "cell_type": "code",
   "execution_count": 15,
   "metadata": {},
   "outputs": [
    {
     "name": "stdout",
     "output_type": "stream",
     "text": [
      "  11.784 s (64206 allocations: 350.47 MiB)\n"
     ]
    },
    {
     "data": {
      "text/plain": [
       "9-element Array{Float64,1}:\n",
       " 2.437341685966827e6\n",
       " 2.399415126529132e6\n",
       " 2.369254506628911e6\n",
       " 2.3467951793523636e6\n",
       " 2.3270840769749777e6\n",
       " 2.313686253289302e6\n",
       " 2.296110956193394e6\n",
       " 2.2814086561771547e6\n",
       " 2.27119959416904e6"
      ]
     },
     "execution_count": 15,
     "metadata": {},
     "output_type": "execute_result"
    }
   ],
   "source": [
    "@btime [ParallelKMeans.kmeans(Hamerly(), X_1m, i; tol=1e-6, max_iters=1000, verbose=false).totalcost for i = 2:10]"
   ]
  },
  {
   "cell_type": "code",
   "execution_count": 16,
   "metadata": {},
   "outputs": [
    {
     "name": "stdout",
     "output_type": "stream",
     "text": [
      "  1.339 s (82368 allocations: 43.49 MiB)\n"
     ]
    },
    {
     "data": {
      "text/plain": [
       "9-element Array{Float64,1}:\n",
       " 244373.19334730235\n",
       " 240674.19263342157\n",
       " 236911.93253428186\n",
       " 234543.29649092205\n",
       " 232822.1605010765\n",
       " 230701.10885423486\n",
       " 229256.8542916515\n",
       " 227837.66572991127\n",
       " 226529.47736081632"
      ]
     },
     "execution_count": 16,
     "metadata": {},
     "output_type": "execute_result"
    }
   ],
   "source": [
    "@btime [ParallelKMeans.kmeans(Hamerly(), X_100k, i; tol=1e-6, max_iters=1000, verbose=false).totalcost for i = 2:10]"
   ]
  },
  {
   "cell_type": "code",
   "execution_count": 17,
   "metadata": {},
   "outputs": [
    {
     "name": "stdout",
     "output_type": "stream",
     "text": [
      "  94.233 ms (51797 allocations: 9.24 MiB)\n"
     ]
    },
    {
     "data": {
      "text/plain": [
       "9-element Array{Float64,1}:\n",
       " 24261.872060369802\n",
       " 23918.03508487201\n",
       " 23554.980243149133\n",
       " 23305.029416266672\n",
       " 23088.523219687137\n",
       " 22888.398250747316\n",
       " 22701.768190004157\n",
       " 22568.54473470184\n",
       " 22417.85283075115"
      ]
     },
     "execution_count": 17,
     "metadata": {},
     "output_type": "execute_result"
    }
   ],
   "source": [
    "@btime [ParallelKMeans.kmeans(Hamerly(), X_10k, i; tol=1e-6, max_iters=1000, verbose=false).totalcost for i = 2:10]"
   ]
  },
  {
   "cell_type": "code",
   "execution_count": 18,
   "metadata": {
    "scrolled": true
   },
   "outputs": [
    {
     "name": "stdout",
     "output_type": "stream",
     "text": [
      "  6.600 ms (17113 allocations: 2.33 MiB)\n"
     ]
    },
    {
     "data": {
      "text/plain": [
       "9-element Array{Float64,1}:\n",
       " 2417.8122639415556\n",
       " 2367.295114693651\n",
       " 2326.92270431841\n",
       " 2301.4090836529717\n",
       " 2262.592058921362\n",
       " 2237.677144788601\n",
       " 2216.6865080073426\n",
       " 2192.842847353733\n",
       " 2175.1435030668317"
      ]
     },
     "execution_count": 18,
     "metadata": {},
     "output_type": "execute_result"
    }
   ],
   "source": [
    "@btime [ParallelKMeans.kmeans(Hamerly(), X_1k, i; tol=1e-6, max_iters=1000, verbose=false).totalcost for i = 2:10]"
   ]
  },
  {
   "cell_type": "code",
   "execution_count": null,
   "metadata": {},
   "outputs": [],
   "source": []
  },
  {
   "cell_type": "markdown",
   "metadata": {},
   "source": [
    "# Elkan"
   ]
  },
  {
   "cell_type": "code",
   "execution_count": 19,
   "metadata": {},
   "outputs": [
    {
     "name": "stdout",
     "output_type": "stream",
     "text": [
      "  17.591 s (68127 allocations: 702.71 MiB)\n"
     ]
    },
    {
     "data": {
      "text/plain": [
       "9-element Array{Float64,1}:\n",
       " 2.4375136207882697e6\n",
       " 2.3994863411646667e6\n",
       " 2.3698159559913045e6\n",
       " 2.34656618859055e6\n",
       " 2.327164977038004e6\n",
       " 2.3100652099671173e6\n",
       " 2.2974686486714045e6\n",
       " 2.2824355819614637e6\n",
       " 2.268417948648371e6"
      ]
     },
     "execution_count": 19,
     "metadata": {},
     "output_type": "execute_result"
    }
   ],
   "source": [
    "@btime [ParallelKMeans.kmeans(Elkan(), X_1m, i; tol=1e-6, max_iters=1000, verbose=false).totalcost for i = 2:10]"
   ]
  },
  {
   "cell_type": "code",
   "execution_count": 20,
   "metadata": {},
   "outputs": [
    {
     "name": "stdout",
     "output_type": "stream",
     "text": [
      "  1.074 s (51543 allocations: 75.25 MiB)\n"
     ]
    },
    {
     "data": {
      "text/plain": [
       "9-element Array{Float64,1}:\n",
       " 243613.14376647965\n",
       " 239764.98541243855\n",
       " 236718.47482885054\n",
       " 234743.26100571707\n",
       " 232797.09604246088\n",
       " 230956.8431501608\n",
       " 229331.63328603297\n",
       " 228419.87861601743\n",
       " 226697.66013825266"
      ]
     },
     "execution_count": 20,
     "metadata": {},
     "output_type": "execute_result"
    }
   ],
   "source": [
    "@btime [ParallelKMeans.kmeans(Elkan(), X_100k, i; tol=1e-6, max_iters=1000, verbose=false).totalcost for i = 2:10]"
   ]
  },
  {
   "cell_type": "code",
   "execution_count": 21,
   "metadata": {},
   "outputs": [
    {
     "name": "stdout",
     "output_type": "stream",
     "text": [
      "  81.995 ms (40317 allocations: 11.46 MiB)\n"
     ]
    },
    {
     "data": {
      "text/plain": [
       "9-element Array{Float64,1}:\n",
       " 24315.498032064315\n",
       " 23898.717729445918\n",
       " 23555.821362137038\n",
       " 23303.073244830943\n",
       " 23090.24268729613\n",
       " 22903.503875280156\n",
       " 22723.694819363172\n",
       " 22533.790826789904\n",
       " 22413.09535077061"
      ]
     },
     "execution_count": 21,
     "metadata": {},
     "output_type": "execute_result"
    }
   ],
   "source": [
    "@btime [ParallelKMeans.kmeans(Elkan(), X_10k, i; tol=1e-6, max_iters=1000, verbose=false).totalcost for i = 2:10]"
   ]
  },
  {
   "cell_type": "code",
   "execution_count": 22,
   "metadata": {
    "scrolled": true
   },
   "outputs": [
    {
     "name": "stdout",
     "output_type": "stream",
     "text": [
      "  6.953 ms (16616 allocations: 2.62 MiB)\n"
     ]
    },
    {
     "data": {
      "text/plain": [
       "9-element Array{Float64,1}:\n",
       " 2416.521641930817\n",
       " 2366.4516136696107\n",
       " 2327.7402614908065\n",
       " 2298.342819194774\n",
       " 2262.073982754183\n",
       " 2239.6565302511785\n",
       " 2216.845951416227\n",
       " 2196.929026408215\n",
       " 2177.2843007941256"
      ]
     },
     "execution_count": 22,
     "metadata": {},
     "output_type": "execute_result"
    }
   ],
   "source": [
    "@btime [ParallelKMeans.kmeans(Elkan(), X_1k, i; tol=1e-6, max_iters=1000, verbose=false).totalcost for i = 2:10]"
   ]
  }
 ],
 "metadata": {
  "kernelspec": {
   "display_name": "Julia 1.4.0",
   "language": "julia",
   "name": "julia-1.4"
  },
  "language_info": {
   "file_extension": ".jl",
   "mimetype": "application/julia",
   "name": "julia",
   "version": "1.4.0"
  },
  "nteract": {
   "version": "0.22.4"
  }
 },
 "nbformat": 4,
 "nbformat_minor": 4
}
